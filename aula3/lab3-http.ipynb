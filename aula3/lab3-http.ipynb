{
 "cells": [
  {
   "cell_type": "markdown",
   "id": "6d94d799",
   "metadata": {
    "slideshow": {
     "slide_type": "slide"
    }
   },
   "source": [
    "# Redes de Computadores\n",
    "### Computer Networks"
   ]
  },
  {
   "cell_type": "markdown",
   "id": "77416214",
   "metadata": {
    "slideshow": {
     "slide_type": "slide"
    }
   },
   "source": [
    "# Lab class #3\n",
    "## HTTP - Hyper Text Transfer Protocol\n"
   ]
  },
  {
   "cell_type": "markdown",
   "id": "08dd87df",
   "metadata": {
    "slideshow": {
     "slide_type": "slide"
    }
   },
   "source": [
    "## Summary\n",
    "\n",
    "+ HTTP protocol\n",
    "+ Exercise: HTTP file transfer"
   ]
  },
  {
   "cell_type": "markdown",
   "id": "41ccc221",
   "metadata": {
    "slideshow": {
     "slide_type": "slide"
    }
   },
   "source": [
    "## HTTP protocol\n",
    "\n",
    "+ A client/server protocol\n",
    "\n",
    "    - Server awaits for client connections in a TCP socket listening on port 80 (by default)\n",
    "    <br><br>\n",
    "    \n",
    "+ In version 1.0, each connection is used to get a **single** resource; \n",
    "\n",
    "    - After sending the reply, the server will **close** the connection to the client; \n",
    "<br><br>\n",
    "\n",
    "+ In version 1.1, the same connection can be used to get a sequence of resources;"
   ]
  },
  {
   "cell_type": "markdown",
   "id": "0a046d90",
   "metadata": {
    "slideshow": {
     "slide_type": "slide"
    }
   },
   "source": [
    "## HTTP request\n",
    "\n",
    "The client issues a request by sending:\n",
    "\n",
    "+ A request line\n",
    "+ Zero or more header lines\n",
    "+ An empty line\n",
    "+ Optionally a message-body"
   ]
  },
  {
   "cell_type": "markdown",
   "id": "c5cd2110",
   "metadata": {
    "slideshow": {
     "slide_type": "subslide"
    }
   },
   "source": [
    "### HTTP request line\n",
    "\n",
    "+ GET | POST | PUT | etc. \n",
    "+ resource path\n",
    "+ HTTP version\n",
    "+ CRLF\n",
    "\n",
    "`GET /index.html HTTP/1.0\\r\\n`"
   ]
  },
  {
   "cell_type": "markdown",
   "id": "8c18ff49",
   "metadata": {
    "slideshow": {
     "slide_type": "subslide"
    }
   },
   "source": [
    "### HTTP request header\n",
    "\n",
    "+ text key/value pair separated by `:`\n",
    "+ CRLF\n",
    "\n",
    "`User-Agent: Mozilla/4.7(X11;Linux 2.4 i586; Nav)\\r\\n`\n",
    "\n",
    "`Content-Length: 374\\r\\n`"
   ]
  },
  {
   "cell_type": "markdown",
   "id": "a56e52a8",
   "metadata": {
    "slideshow": {
     "slide_type": "subslide"
    }
   },
   "source": [
    "### HTTP empty line\n",
    "\n",
    "+ CRLF "
   ]
  },
  {
   "cell_type": "markdown",
   "id": "f6332329",
   "metadata": {
    "slideshow": {
     "slide_type": "subslide"
    }
   },
   "source": [
    "### HTTP message body\n",
    "\n",
    "+ Text or binary data (can be anything)\n"
   ]
  },
  {
   "cell_type": "markdown",
   "id": "a17d2393",
   "metadata": {
    "slideshow": {
     "slide_type": "fragment"
    }
   },
   "source": [
    "For example, when uploading a file via HTTP, the file contents will make up the message body."
   ]
  },
  {
   "cell_type": "markdown",
   "id": "680e3a6c",
   "metadata": {
    "slideshow": {
     "slide_type": "slide"
    }
   },
   "source": [
    "## HTTP reply\n",
    "\n",
    "The server replies by sending:\n",
    "\n",
    "+ A status line\n",
    "+ Zero or more header lines\n",
    "+ An empty line\n",
    "+ Optionally a message-body"
   ]
  },
  {
   "cell_type": "markdown",
   "id": "28ad9b53",
   "metadata": {
    "slideshow": {
     "slide_type": "subslide"
    }
   },
   "source": [
    "### HTTP status line\n",
    "\n",
    "The status line consists of the **protocol version** followed by a **numeric status code** and its associated textual phrase. \n",
    "\n",
    "<br>\n",
    "\n",
    "`HTTP/1.0 20 OK`\n",
    "\n",
    "`HTTP/1.1 404 NOT FOUND`"
   ]
  },
  {
   "cell_type": "markdown",
   "id": "5568c170",
   "metadata": {},
   "source": [
    "### HTTP reply headers\n",
    "\n",
    "Describe the reply. For example, the type and length of the message body.\n",
    "\n",
    "`Content-Type: image/jpg`\n",
    "\n",
    "`Content-Length: 65534`"
   ]
  },
  {
   "cell_type": "code",
   "execution_count": null,
   "id": "30871bc2",
   "metadata": {},
   "outputs": [],
   "source": []
  }
 ],
 "metadata": {
  "celltoolbar": "Slideshow",
  "kernelspec": {
   "display_name": "Ganymede 1.1.0.20210614 (Java 16)",
   "language": "java",
   "name": "ganymede-1.1.0.20210614-java-16"
  },
  "language_info": {
   "file_extension": ".java",
   "mimetype": "text/x-java",
   "name": "java",
   "version": "16"
  }
 },
 "nbformat": 4,
 "nbformat_minor": 5
}
