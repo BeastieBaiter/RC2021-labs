{
 "cells": [
  {
   "cell_type": "markdown",
   "id": "962bc2df",
   "metadata": {
    "slideshow": {
     "slide_type": "slide"
    }
   },
   "source": [
    "# Redes de Computadores\n",
    "### Computer Networks"
   ]
  },
  {
   "cell_type": "markdown",
   "id": "499565c9",
   "metadata": {
    "slideshow": {
     "slide_type": "slide"
    }
   },
   "source": [
    "# Lab class #3\n",
    "## HTTP - Hyper Text Transfer Protocol\n"
   ]
  },
  {
   "cell_type": "markdown",
   "id": "0aeedf3a",
   "metadata": {
    "slideshow": {
     "slide_type": "slide"
    }
   },
   "source": [
    "## Summary\n",
    "\n",
    "+ HTTP protocol\n",
    "+ Exercise: HTTP file transfer"
   ]
  },
  {
   "cell_type": "markdown",
   "id": "9e6d0923",
   "metadata": {
    "slideshow": {
     "slide_type": "slide"
    }
   },
   "source": [
    "## HTTP protocol\n",
    "\n",
    "+ A client/server protocol\n",
    "\n",
    "    - Server awaits for client connections in a TCP socket listening on port 80 (by default)\n",
    "    <br><br>\n",
    "    \n",
    "+ In version 1.0, each connection is used to get a **single** resource; \n",
    "\n",
    "    - After sending the reply, the server will **close** the connection to the client; \n",
    "<br><br>\n",
    "\n",
    "+ In version 1.1, the same connection can be used to get a sequence of resources;"
   ]
  },
  {
   "cell_type": "markdown",
   "id": "9b3c260a",
   "metadata": {
    "slideshow": {
     "slide_type": "slide"
    }
   },
   "source": [
    "## HTTP request\n",
    "\n",
    "The client issues a request by sending:\n",
    "\n",
    "+ A request line\n",
    "+ Zero or more header lines\n",
    "+ An empty line\n",
    "+ Optionally a message-body"
   ]
  },
  {
   "cell_type": "markdown",
   "id": "6c22eb84",
   "metadata": {
    "slideshow": {
     "slide_type": "subslide"
    }
   },
   "source": [
    "### HTTP request line\n",
    "\n",
    "+ GET | POST | PUT | etc. \n",
    "+ resource path\n",
    "+ HTTP version\n",
    "+ CRLF\n",
    "\n",
    "`GET /index.html HTTP/1.0\\r\\n`"
   ]
  },
  {
   "cell_type": "markdown",
   "id": "a969888e",
   "metadata": {
    "slideshow": {
     "slide_type": "subslide"
    }
   },
   "source": [
    "### HTTP request header\n",
    "\n",
    "+ text key/value pair separated by `:`\n",
    "+ CRLF\n",
    "\n",
    "`User-Agent: Mozilla/4.7(X11;Linux 2.4 i586; Nav)\\r\\n`\n",
    "\n",
    "`Content-Length: 374\\r\\n`"
   ]
  },
  {
   "cell_type": "markdown",
   "id": "93a0bde0",
   "metadata": {
    "slideshow": {
     "slide_type": "subslide"
    }
   },
   "source": [
    "### HTTP empty line\n",
    "\n",
    "+ CRLF "
   ]
  },
  {
   "cell_type": "markdown",
   "id": "fe253094",
   "metadata": {
    "slideshow": {
     "slide_type": "subslide"
    }
   },
   "source": [
    "### HTTP message body\n",
    "\n",
    "+ Text or binary data (can be anything)\n"
   ]
  },
  {
   "cell_type": "markdown",
   "id": "8cafa88e",
   "metadata": {
    "slideshow": {
     "slide_type": "fragment"
    }
   },
   "source": [
    "For example, when uploading a file via HTTP, the file contents will make up the message body."
   ]
  },
  {
   "cell_type": "markdown",
   "id": "d3c06cd4",
   "metadata": {
    "slideshow": {
     "slide_type": "slide"
    }
   },
   "source": [
    "## HTTP response\n",
    "\n",
    "The server replies by sending:\n",
    "\n",
    "+ A status line\n",
    "+ Zero or more header lines\n",
    "+ An empty line\n",
    "+ Optionally a message-body"
   ]
  },
  {
   "cell_type": "markdown",
   "id": "7b833f63",
   "metadata": {
    "slideshow": {
     "slide_type": "subslide"
    }
   },
   "source": [
    "### HTTP status line\n",
    "\n",
    "The status line consists of the **protocol version** followed by a **numeric status code** and its associated textual phrase. \n",
    "\n",
    "<br>\n",
    "\n",
    "`HTTP/1.0 200 OK`\n",
    "\n",
    "`HTTP/1.1 404 NOT FOUND`"
   ]
  },
  {
   "cell_type": "markdown",
   "id": "23ce4c3b",
   "metadata": {},
   "source": [
    "## HTTP response header\n",
    "\n",
    "text key/value pair separated by :, describing the returned resource and/or server.\n",
    "\n",
    "`Content-Type: text/html\\r\\n`<br>\n",
    "`Content-Length: 374\\r\\n`"
   ]
  },
  {
   "cell_type": "markdown",
   "id": "a2e4fb40",
   "metadata": {
    "slideshow": {
     "slide_type": "slide"
    }
   },
   "source": [
    "### HTTP response message body\n",
    "\n",
    "+ Text or binary data (can be anything);\n",
    "\n",
    "    The actual type, length and encoding are conveyed by the headers."
   ]
  },
  {
   "cell_type": "markdown",
   "id": "e5b2ae5f",
   "metadata": {
    "slideshow": {
     "slide_type": "slide"
    }
   },
   "source": [
    "## Exercise 1 - Http client\n",
    "\n",
    "Try the supplied client with a http server running in a container.\n",
    "\n",
    "Note: You must understand which IP addresses and ports you need to use when the client\n",
    "is running in the host machine, or in a container. The `-p` flag passed in the `docker run` command\n",
    "is key to this understanding."
   ]
  },
  {
   "cell_type": "markdown",
   "id": "62ac8c88",
   "metadata": {
    "slideshow": {
     "slide_type": "notes"
    }
   },
   "source": [
    "\n",
    "1. Download the [zip archive](https://github.com/smduarte/RC2021-labs/blob/main/aula3/RC2021-aula3.zip) found in the github repository.<br><br>\n",
    "\n",
    "2. Import the zip archive to your Eclipse workspace.<br><br>\n",
    "\n",
    "3. Open a command line terminal at the project's root folder and build the `rc2021-aula3` docker image, like so: \n",
    "\n",
    "    `docker build . -t rc2021-aula3`\n",
    "<br>\n",
    "4. Prepare a container to run Apache2 http server, by\n",
    "\n",
    "    `docker run -ti -p 8000:80 rc2021-aula3`\n",
    "<br><br>  \n",
    "5. In the container, execute:\n",
    "\n",
    "    `service apache2 start`\n",
    "<br><br>\n",
    "6. Access the Apache2 http server in your browser:\n",
    "\n",
    "    [http://localhost:8000/index.html](http://localhost:8000/index.html)\n",
    "<br><br>    \n",
    "\n",
    "7. Access the Apache server using the supplied [HttpClient](https://github.com/smduarte/RC2021-labs/blob/main/aula3/RC2021-aula3/src/http/HttpClient.java) class.\n",
    "\n",
    "    - Try it locally, by executing in Eclipse;\n",
    "    - Try it in a docker container. Make sure you understand which IP addresses and port need to used..."
   ]
  },
  {
   "cell_type": "markdown",
   "id": "cc084d5b",
   "metadata": {
    "slideshow": {
     "slide_type": "slide"
    }
   },
   "source": [
    "## Exercise 2 - Http server\n",
    "\n",
    "Complete the provided server\n",
    "\n",
    "+ Implement the **GET** method;\n",
    "+ Execute the server locally and download the earth.jpg using either the browser or the supplied client.\n",
    "+ Execute the server in a container and download the earth.jpg using either the browser or the supplied client.\n"
   ]
  }
 ],
 "metadata": {
  "celltoolbar": "Slideshow",
  "kernelspec": {
   "display_name": "Ganymede 1.1.0.20210614 (Java 16)",
   "language": "java",
   "name": "ganymede-1.1.0.20210614-java-16"
  },
  "language_info": {
   "file_extension": ".java",
   "mimetype": "text/x-java",
   "name": "java",
   "version": "16"
  }
 },
 "nbformat": 4,
 "nbformat_minor": 5
}
