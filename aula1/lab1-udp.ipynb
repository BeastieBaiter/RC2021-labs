{
 "cells": [
  {
   "cell_type": "markdown",
   "id": "9e260446",
   "metadata": {
    "slideshow": {
     "slide_type": "slide"
    }
   },
   "source": [
    "# Redes de Computadores\n",
    "### Computer Networks"
   ]
  },
  {
   "cell_type": "markdown",
   "id": "5de3363c",
   "metadata": {
    "slideshow": {
     "slide_type": "slide"
    }
   },
   "source": [
    "# Lab class #1\n",
    "## Message oriented network programming with UDP sockets\n"
   ]
  },
  {
   "cell_type": "markdown",
   "id": "727544fb",
   "metadata": {
    "slideshow": {
     "slide_type": "slide"
    }
   },
   "source": [
    "## Summary\n",
    "\n",
    "+ Client/Server model\n",
    "+ Java example\n",
    "+ Exercise: File transfer"
   ]
  },
  {
   "cell_type": "markdown",
   "id": "8e352c21",
   "metadata": {
    "slideshow": {
     "slide_type": "slide"
    }
   },
   "source": [
    "## Client/Server model\n",
    "\n",
    "+ Two autonomous components:\n",
    " - **server** - first to run and usually always running;\n",
    " \n",
    " - **client** - usually started by user to request a service..."
   ]
  },
  {
   "cell_type": "markdown",
   "id": "dc6b260d",
   "metadata": {
    "slideshow": {
     "slide_type": "slide"
    }
   },
   "source": [
    "## Client/Server model\n",
    "### Execution diagram\n",
    "<img src=\"https://docs.google.com/drawings/d/e/2PACX-1vQ2WG8d1x5eBoBEmXYSHK-7mxEdHrFbYivjDUY0DJ_ZAXCB8knL4Lij8HgiIMeaQY8SaJwMXlFBn1Pi/pub?w=960&h=720\" width=\"75%\">"
   ]
  },
  {
   "cell_type": "markdown",
   "id": "3f123404-3597-4047-83dd-89bf896847d4",
   "metadata": {
    "slideshow": {
     "slide_type": "slide"
    }
   },
   "source": [
    "## UDP - User Datagram Protocol\n",
    "\n",
    "A message oriented (transport) protocol for communication between processes\n",
    "running in different machines. \n",
    "\n",
    "UDP leverages the IP protocol, which enables communication\n",
    "between machines in the Internet (and other networks)."
   ]
  },
  {
   "cell_type": "markdown",
   "id": "df5e3b3e",
   "metadata": {
    "slideshow": {
     "slide_type": "slide"
    }
   },
   "source": [
    "## What's an UDP datagram?\n",
    "\n",
    "+ Raw byte sequence message (at most 64KB long);\n",
    "+ **Addressed** to a host (IP) and a process (port)\n",
    "+ **From** a host (IP) and a process (port)"
   ]
  },
  {
   "cell_type": "markdown",
   "id": "33415d57",
   "metadata": {
    "slideshow": {
     "slide_type": "slide"
    }
   },
   "source": [
    "## UDP Datagram format\n",
    "<img src=\"https://docs.google.com/drawings/d/e/2PACX-1vSSUyEXYiM5iJLqtI_xnqmcgTk2Q8zQ3tR9AlLsA230Fp6DFaesVt76AFY-7XIPP3hNXvbz4qXXPm_r/pub?w=960&h=720\" width=\"75%\">"
   ]
  },
  {
   "cell_type": "markdown",
   "id": "473423e7",
   "metadata": {
    "slideshow": {
     "slide_type": "slide"
    }
   },
   "source": [
    "## UDP oriented communication\n",
    "\n",
    "+ Communication is based on **sockets**\n",
    "    - Endpoint abstraction with all the operations (eg., send, receive, close, etc.)\n",
    "\n",
    "\n",
    "+ Addresses identify the *sender* and *receiver*;\n",
    "    - **Host** (IP Address)\n",
    "      ``10.1.233.67, 127.0.0.1, 192.168.1.1, etc.``\n",
    "    - **Port** (16 bits)\n",
    "     ``53, 8000, 1234, etc.``\n",
    " "
   ]
  },
  {
   "cell_type": "markdown",
   "id": "23423209",
   "metadata": {
    "slideshow": {
     "slide_type": "slide"
    },
    "tags": []
   },
   "source": [
    "## Java Programming with UDP datagrams\n",
    "\n",
    "+ Java package\n",
    "\n",
    "    [java.net](https://docs.oracle.com/en/java/javase/16/docs/api/java.base/java/net/package-summary.html)\n",
    " \n",
    " \n",
    "+ Java classes\n",
    "\n",
    "    [DatagramSocket](https://docs.oracle.com/en/java/javase/16/docs/api/java.base/java/net/DatagramSocket.html)\n",
    "\n",
    "    [DatagramPacket](https://docs.oracle.com/en/java/javase/16/docs/api/java.base/java/net/DatagramPacket.html)\n",
    "\n",
    "    [InetAddress](https://docs.oracle.com/en/java/javase/16/docs/api/java.base/java/net/InetAddress.html)\n",
    "\n",
    "    [InetSocketAddress](https://docs.oracle.com/en/java/javase/16/docs/api/java.base/java/net/InetSocketAddress.html)"
   ]
  },
  {
   "cell_type": "markdown",
   "id": "2445bf28",
   "metadata": {
    "slideshow": {
     "slide_type": "slide"
    }
   },
   "source": [
    "## Example: Echo service\n",
    "\n",
    "+ Client sends a string message (bytes) to server (IP + port)\n",
    "+ Server sends back a copy of that message to client"
   ]
  },
  {
   "cell_type": "markdown",
   "id": "9a27a11f-ccab-4fdf-83ea-9c006833fc02",
   "metadata": {
    "slideshow": {
     "slide_type": "slide"
    },
    "tags": []
   },
   "source": [
    "### Server"
   ]
  },
  {
   "cell_type": "code",
   "execution_count": null,
   "id": "054d62e6-f4ea-4b9e-84f3-db3c9a00c9d0",
   "metadata": {
    "slideshow": {
     "slide_type": "fragment"
    },
    "tags": []
   },
   "outputs": [],
   "source": [
    "import java.io.IOException;\n",
    "import java.net.*;\n",
    "\n",
    "static final int PORT = 8000;\n",
    "static final int MAX_DATAGRAM_SIZE = 65536;\n",
    "    \n",
    "try (DatagramSocket socket = new DatagramSocket(PORT)) {\n",
    "    for (;;) {\n",
    "        byte[] buffer = new byte[MAX_DATAGRAM_SIZE];\n",
    "                \n",
    "        DatagramPacket echoRequest = new DatagramPacket(buffer, buffer.length);\n",
    "        socket.receive(echoRequest);\n",
    "        \n",
    "        DatagramPacket echoReply = new DatagramPacket( echoRequest.getData(),\n",
    "                                                  echoRequest.getLength(), echoRequest.getSocketAddress());\n",
    "        socket.send(echoReply);\n",
    "    }\n",
    "} catch (IOException x) {\n",
    "    x.printStackTrace();\n",
    "}"
   ]
  },
  {
   "cell_type": "markdown",
   "id": "748f7a3d-6124-4e98-99f7-b61fe572c6ed",
   "metadata": {
    "slideshow": {
     "slide_type": "slide"
    },
    "tags": []
   },
   "source": [
    "### Client"
   ]
  },
  {
   "cell_type": "code",
   "execution_count": null,
   "id": "6a63e760-45a9-4477-8ce7-b05ff712010b",
   "metadata": {
    "slideshow": {
     "slide_type": "fragment"
    },
    "tags": []
   },
   "outputs": [],
   "source": [
    "String server = \"...\";\n",
    "String message = \"...\"; \n",
    "\n",
    "InetSocketAddress serverAddress = new InetSocketAddress( server, PORT);\n",
    "\n",
    "try(DatagramSocket socket = new DatagramSocket()) {\n",
    "    \n",
    "    byte[] requestData = message.getBytes();\n",
    "    DatagramPacket echoRequest = new DatagramPacket(requestData, requestData.length, serverAddress);\n",
    "    \n",
    "    socket.send( echoRequest );\n",
    "    \n",
    "    byte[] buffer = new byte[MAX_DATAGRAM_SIZE]; \n",
    "    DatagramPacket echoReply = new DatagramPacket(buffer, buffer.length);\n",
    "    socket.receive(echoReply);\n",
    "            \n",
    "    String reply = new String( echoReply.getData(), 0, echoReply.getLength());\n",
    "    System.out.printf(\"Echo reply: %s\\n\", reply);\n",
    "} catch( IOException x) {\n",
    "    x.printStackTrace();\n",
    "}"
   ]
  },
  {
   "cell_type": "markdown",
   "id": "78e6306c-5ca1-49f5-9ace-9e912a353882",
   "metadata": {
    "slideshow": {
     "slide_type": "slide"
    }
   },
   "source": [
    "## Class [InetSocketAddress](https://docs.oracle.com/en/java/javase/16/docs/api/java.base/java/net/InetSocketAddress.html)\n",
    "\n",
    "InetSocketAddress objects encode socket endpoints, each comprising of an IP address ([InetAddress](https://docs.oracle.com/en/java/javase/16/docs/api/java.base/java/net/InetAddress.html))\n",
    " and a port."
   ]
  },
  {
   "cell_type": "code",
   "execution_count": null,
   "id": "31b2443c",
   "metadata": {
    "slideshow": {
     "slide_type": "fragment"
    }
   },
   "outputs": [],
   "source": [
    "import java.net.*;\n",
    "\n",
    "InetSocketAddress _1 = new InetSocketAddress(\"localhost\", 1234);\n",
    "\n",
    "InetSocketAddress _2 = new InetSocketAddress(\"www.wikipedia.org\", 8000);\n",
    "\n",
    "InetSocketAddress _3 = new InetSocketAddress(\"10.0.0.1\", 8000);\n"
   ]
  },
  {
   "cell_type": "markdown",
   "id": "933a87ba",
   "metadata": {
    "slideshow": {
     "slide_type": "slide"
    }
   },
   "source": [
    "## Class [InetAddress](https://docs.oracle.com/en/java/javase/16/docs/api/java.base/java/net/InetAddress.html)\n",
    "\n",
    "InetAddress objects encode IP addresses. Static methods provide several ways to construct them."
   ]
  },
  {
   "cell_type": "code",
   "execution_count": null,
   "id": "aa56cac9",
   "metadata": {
    "slideshow": {
     "slide_type": "fragment"
    }
   },
   "outputs": [],
   "source": [
    "import java.net.*;\n",
    "\n",
    "InetAddress _1 = InetAddress.getByName(\"localhost\");\n",
    "\n",
    "InetAddress _2 = InetAddress.getByName(\"127.0.0.1\");\n",
    "\n",
    "InetAddress _3 = InetAddress.getLocalHost();\n",
    "\n",
    "InetAddress _4 = InetAddress.getByName(\"www.wikipedia.org\");\n",
    "\n",
    "InetAddress _5 = InetAddress.getByName(\"200.10.78.9\");"
   ]
  },
  {
   "cell_type": "markdown",
   "id": "aa6b49f9",
   "metadata": {
    "slideshow": {
     "slide_type": "slide"
    }
   },
   "source": [
    "## Class [DatagramPacket](https://docs.oracle.com/en/java/javase/16/docs/api/java.base/java/net/DatagramPacket.html)\n",
    "\n",
    "DatagramPacket objects are used to represent messages (UDP datragrams), composed of a byte array payload and\n",
    "a socket endpoint [InetSocketAddress](https://docs.oracle.com/en/java/javase/16/docs/api/java.base/java/net/InetSocketAddress.html). \n",
    "\n",
    "The socket endpoint represents either the ***origin*** of the datagram or its ***destination***, \n",
    "depending if the datagram was ***received*** or is going to be ***sent***."
   ]
  },
  {
   "cell_type": "markdown",
   "id": "b262df92",
   "metadata": {
    "slideshow": {
     "slide_type": "notes"
    }
   },
   "source": [
    "To receive a datagram, an \"empty\" [DatagramPacket](https://docs.oracle.com/en/java/javase/16/docs/api/java.base/java/net/DatagramPacket.html) object is required. It's underlying byte buffer must be large enough to contain the incoming payload, otherwise any excess will be discarded.\n",
    "\n",
    "Methods are provided to modify part of an existing DatagramPacket. For instance, it is possible to update independently the ip address, the port, the payload or the payload length."
   ]
  },
  {
   "cell_type": "code",
   "execution_count": null,
   "id": "749b1e32",
   "metadata": {
    "slideshow": {
     "slide_type": "fragment"
    }
   },
   "outputs": [],
   "source": [
    "import java.net.*;\n",
    "\n",
    "final int BUF_MAX_SIZE = 65536;\n",
    "\n",
    "DatagramPacket _1 = new DatagramPacket(new byte[BUF_MAX_SIZE], BUF_MAX_SIZE);\n",
    "\n",
    "\n",
    "String data = \"this is an example...\";\n",
    "byte[] payload = data.getBytes();\n",
    "\n",
    "final int ENDPOINT = new InetSocketAddress(\"192.168.1.1\", 1234);\n",
    "\n",
    "DatagramPacket _2 = new DatagramPacket(payload, payload.length, ENDPOINT);"
   ]
  },
  {
   "cell_type": "markdown",
   "id": "7a558574",
   "metadata": {
    "slideshow": {
     "slide_type": "slide"
    }
   },
   "source": [
    "## Class [DatagramSocket](https://docs.oracle.com/en/java/javase/16/docs/api/java.base/java/net/DatagramSocket.html)\n",
    "\n",
    "DatagramSocket objects provide the means to send and receive datagrams. \n",
    "\n",
    "The 0-arg constructor is usually used by the **client**, whereas the **server** normally uses a constructor that takes\n",
    "the **port** that will be bound to the server. "
   ]
  },
  {
   "cell_type": "markdown",
   "id": "4c62c3ff",
   "metadata": {
    "slideshow": {
     "slide_type": "notes"
    }
   },
   "source": [
    "Attempting to bind the same port **more than once** by the same process or by multiples processes fails with\n",
    "an exception.\n",
    "\n",
    "DatagramSocket objects consume OS-level I/O descriptors. For this reason, they need to be **closed** when they will not be used anymore.\n",
    "Since this class implements the [AutoCloseable](https://docs.oracle.com/en/java/javase/16/docs/api/java.base/java/lang/AutoCloseable.html) interface, it is good practice to use the [try with resources](https://www.baeldung.com/java-try-with-resources) pattern, as shown in the sample code prior."
   ]
  },
  {
   "cell_type": "code",
   "execution_count": null,
   "id": "03e7d2bb",
   "metadata": {
    "slideshow": {
     "slide_type": "fragment"
    }
   },
   "outputs": [],
   "source": [
    "// Client\n",
    "try(DatagramSocket socket = new DatagramSocket()) {\n",
    "    ...\n",
    "}\n",
    "\n",
    "// Server\n",
    "try(DatagramSocket socket = new DatagramSocket( PORT )) {\n",
    "    ...\n",
    "}"
   ]
  },
  {
   "cell_type": "markdown",
   "id": "052cb27b",
   "metadata": {
    "slideshow": {
     "slide_type": "slide"
    }
   },
   "source": [
    "## Exercise 1\n",
    "\n",
    "Try the provided EchoService sample code locally in your machine, then\n",
    "using Docker."
   ]
  },
  {
   "cell_type": "markdown",
   "id": "159ab9fe",
   "metadata": {
    "slideshow": {
     "slide_type": "notes"
    }
   },
   "source": [
    "1. Study the [EchoClient](https://github.com/smduarte/RC2021-labs/blob/main/aula1/RC2021-aula1/src/udp/EchoClient.java) and [EchoServer](https://github.com/smduarte/RC2021-labs/blob/main/aula1/RC2021-aula1/src/udp/EchoServer.java) classes. Use the provided [Eclipse project](https://github.com/smduarte/RC2021-labs/blob/main/aula1/RC2021-aula1.zip), by importing it into an Eclipse workspace.\n",
    "\n",
    "\n",
    "2. Run the sample code locally in your machine...\n",
    "\n",
    "    + Compile the classes, either in Eclipse or using javac;\n",
    "    + Launch the server (no params)\n",
    "    + Run the echo client, using either \"localhost\" or \"127.0.0.1\" for\n",
    "    the ip address of the server;\n",
    "    \n",
    "\n",
    "3. Run the sample code using Docker...\n",
    "\n",
    "    + Build the docker image (assuming the classes are compiled), running in the project root folder (containing the [Dockerfile](https://github.com/smduarte/RC2021-labs/blob/main/aula1/RC2021-aula1/Dockerfile)):\n",
    "    \n",
    "    `docker build . -t rc2021-aula1`<br><br>\n",
    "    \n",
    "    + Launch the echo server:\n",
    "    \n",
    "    `docker run -ti --name echoserver rc2021-aula1 java udp.EchoServer`<br><br>\n",
    "\n",
    "    + Inspect the container to determine its IP address:\n",
    "    \n",
    "    `docker inspect echoserver`<br><br>\n",
    "    \n",
    "    + Run the echo client, replacing `<ip>` with the ip address of the echo server. \n",
    "    \n",
    "    `docker run -ti rc2021-aula1 java udp.EchoClient <ip> 8000 \"this is a test\"`"
   ]
  },
  {
   "cell_type": "markdown",
   "id": "ea2e21ad",
   "metadata": {
    "slideshow": {
     "slide_type": "slide"
    }
   },
   "source": [
    "## Exercise 2 - Naive UDP file transfer\n",
    "\n",
    "Complete the provided client to use UDP datagrams to transfer a file between a client and a server.\n",
    "\n",
    "The server expects an initial packet containing the name of file being sent, followed\n",
    "by a sequence of datagrams containing a fixed amount of file data. \n",
    "\n",
    "The server considers the transfer complete when it receives a datagram with length less\n",
    "than the defined fixed BLOCK_SIZE constant.\n",
    "\n"
   ]
  },
  {
   "cell_type": "markdown",
   "id": "328ff342",
   "metadata": {
    "slideshow": {
     "slide_type": "notes"
    }
   },
   "source": [
    "1. Complete the client provided in the zip located in the repo;\n",
    "\n",
    "\n",
    "2. Test the client locally using the provided *earth.jpg* image;\n",
    "\n",
    "\n",
    "3. Check if the transferred file opens correctly. If it does not, insert some delay (sleep) \n",
    "between each `socket.send` operation;\n",
    "\n",
    "    Increase the sleep delay, until the file is correctly received. Try to explain your results;\n",
    "\n",
    "\n",
    "4. Try your code using Docker, adapting the recipe provided for exercise 1. Note that you\n",
    "can share a folder between your host machine and the server container using the \"-v\" option\n",
    "as described in [lab0-docker](https://github.com/smduarte/RC2021-labs/blob/main/aula0/lab0-docker.ipynb). Use\n",
    "this to share files (earth.jpg and copy-of...) between the host machine and the client or server containers.\n"
   ]
  }
 ],
 "metadata": {
  "celltoolbar": "Slideshow",
  "kernelspec": {
   "display_name": "Ganymede 1.1.0.20210614 (Java 16)",
   "language": "java",
   "name": "ganymede-1.1.0.20210614-java-16"
  },
  "language_info": {
   "file_extension": ".java",
   "mimetype": "text/x-java",
   "name": "java",
   "version": "16"
  }
 },
 "nbformat": 4,
 "nbformat_minor": 5
}
