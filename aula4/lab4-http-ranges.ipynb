{
 "cells": [
  {
   "cell_type": "markdown",
   "id": "962bc2df",
   "metadata": {
    "slideshow": {
     "slide_type": "slide"
    }
   },
   "source": [
    "# Redes de Computadores\n",
    "### Computer Networks"
   ]
  },
  {
   "cell_type": "markdown",
   "id": "499565c9",
   "metadata": {
    "slideshow": {
     "slide_type": "slide"
    }
   },
   "source": [
    "# Lab class #3\n",
    "## HTTP - Partial Transfers\n"
   ]
  },
  {
   "cell_type": "markdown",
   "id": "0aeedf3a",
   "metadata": {
    "slideshow": {
     "slide_type": "slide"
    }
   },
   "source": [
    "## Summary\n",
    "\n",
    "+ HTTP protocol review\n",
    "+ HTTP partial transfers\n",
    "+ Exercise: HTTP file transfer"
   ]
  },
  {
   "cell_type": "markdown",
   "id": "9e6d0923",
   "metadata": {
    "slideshow": {
     "slide_type": "slide"
    }
   },
   "source": [
    "## HTTP protocol\n",
    "\n",
    "+ Client/server protocol on top of TCP;\n",
    "\n",
    "\n",
    "+ Version **1.0** allows a **single request** per connection, while version **1.1** enables **multiple requests** over the same connection;"
   ]
  },
  {
   "cell_type": "markdown",
   "id": "d83653ee",
   "metadata": {
    "slideshow": {
     "slide_type": "slide"
    }
   },
   "source": [
    "### HTTP Headers\n",
    "\n",
    "Request/Response headers, respectively convey information about client/requests and server/responses.\n",
    "\n",
    "It is possible to issue a **HEAD** request to retrieve **headers** associated with a resource,\n",
    "without transferring its actual contents."
   ]
  },
  {
   "cell_type": "markdown",
   "id": "b79f1668",
   "metadata": {
    "slideshow": {
     "slide_type": "fragment"
    }
   },
   "source": [
    "<img src=\"https://docs.google.com/drawings/d/e/2PACX-1vSaRMiAAUSKWOM0Is1MdcgKLLr9GZnlKhe6bKzvx58QX_yeWZ6QABBlUZvfkv2gaSJwr_T9vf86IAKd/pub?w=952&h=391\"></img>"
   ]
  },
  {
   "cell_type": "markdown",
   "id": "fe253094",
   "metadata": {
    "slideshow": {
     "slide_type": "slide"
    }
   },
   "source": [
    "### HTTP partial requests\n",
    "\n",
    "The HTTP protocol allows for the retrieval of\n",
    "partial resources;\n",
    "\n",
    "Enables resuming a download, for example.\n",
    "\n",
    "+ Support by the server is signaled by the inclusion of the **Accept-Ranges: bytes** \n",
    "    header <br> in the response to **GET** or **HEAD** requests.\n",
    "\n",
    "\n",
    "+ The client performs a partial request by including a **Range: bytes=x-[y]** header, <br>\n",
    "    where ***x*** and ***y***, are the initial and final offsets of the requested range. <br> If ***y***\n",
    "    is ommited, it is interpreted as the length of the resource."
   ]
  },
  {
   "cell_type": "markdown",
   "id": "d3c06cd4",
   "metadata": {
    "slideshow": {
     "slide_type": "slide"
    }
   },
   "source": [
    "<img src=\"https://docs.google.com/drawings/d/e/2PACX-1vTpRcFMgptgijGo5EK3ucRrDIu-HOXNY3uyRVrb9BZZTU8QBHTzCSSTb2xy76mS6OUKBSdlhieC0by5/pub?w=952&h=391\"></img>"
   ]
  },
  {
   "cell_type": "markdown",
   "id": "f882cae2",
   "metadata": {
    "slideshow": {
     "slide_type": "slide"
    }
   },
   "source": [
    "## Exercise 1 - Http Segmented Downloader\n",
    "\n",
    "Implement a segmented file downloader using Http partial requests..."
   ]
  },
  {
   "cell_type": "markdown",
   "id": "e5b2ae5f",
   "metadata": {
    "slideshow": {
     "slide_type": "notes"
    }
   },
   "source": [
    "1. Download and import the supplied zip archive into your Eclipse workspace.\n",
    "\n",
    "    `File > Import > Import Existing Projects ... > Select Archive ...`\n",
    "    \n",
    "    \n",
    "2. Build the docker image\n",
    "\n",
    "    `docker build . -t rc2021-aula4`\n",
    "\n",
    "    Prepare a container to run Apache2 http server, by\n",
    "\n",
    "    `docker run -ti -p 8080:80 rc2021-aula4`\n",
    "\n",
    "    In the container, execute:\n",
    "\n",
    "    `service apache2 start`\n",
    "\n",
    "    Access the Apache2 http server in your browser:\n",
    "\n",
    "    [http://localhost:8080/earth.jpg](http://localhost:8080/earth.jpg)\n",
    "    \n",
    "\n",
    "3. Run the supplied [HttpDownloader](https://github.com/smduarte/RC2021-labs/blob/main/aula4/RC2021-aula4/src/http/HttpDownloader.java) class and check the resulting file.\n",
    "\n",
    "\n",
    "4. Modify [HttpDownloader](https://github.com/smduarte/RC2021-labs/blob/main/aula4/RC2021-aula4/src/http/HttpClient1_0.java) class to download a file in segments of up to 1024 bytes,\n",
    "using HTTP partial/ranged requests. \n",
    "\n",
    "    + Study the `doGet` method in [HttpClient1_0]() class, in order to create the required\n",
    "    ranged versions."
   ]
  }
 ],
 "metadata": {
  "celltoolbar": "Slideshow",
  "kernelspec": {
   "display_name": "Ganymede 1.1.0.20210614 (Java 16)",
   "language": "java",
   "name": "ganymede-1.1.0.20210614-java-16"
  },
  "language_info": {
   "file_extension": ".java",
   "mimetype": "text/x-java",
   "name": "java",
   "version": "16"
  }
 },
 "nbformat": 4,
 "nbformat_minor": 5
}
