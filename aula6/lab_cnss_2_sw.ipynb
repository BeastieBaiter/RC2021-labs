{
  "nbformat": 4,
  "nbformat_minor": 0,
  "metadata": {
    "colab": {
      "name": "lab-cnss-2-sw.ipynb",
      "provenance": [],
      "collapsed_sections": [
        "cL2ohXqqvt1l",
        "gZelitmnt5_g",
        "2suOd13L0bpr",
        "JPwyXGOz2Tqp",
        "VytxYIY_-waL",
        "6HtkJGF_EVNF",
        "_bbo8nUgDgh6",
        "ELuAWi_bHYpr",
        "wTNqdJO-JcPe",
        "KszispTmKUhw",
        "tFQLZ3eLLg2N",
        "ZrVfhilDL4MN"
      ],
      "include_colab_link": true
    },
    "kernelspec": {
      "display_name": "Python 3 (ipykernel)",
      "language": "python",
      "name": "python3"
    },
    "language_info": {
      "codemirror_mode": {
        "name": "ipython",
        "version": 3
      },
      "file_extension": ".py",
      "mimetype": "text/x-python",
      "name": "python",
      "nbconvert_exporter": "python",
      "pygments_lexer": "ipython3",
      "version": "3.9.6"
    }
  },
  "cells": [
    {
      "cell_type": "markdown",
      "metadata": {
        "id": "view-in-github",
        "colab_type": "text"
      },
      "source": [
        "<a href=\"https://colab.research.google.com/github/smduarte/RC2021-labs/blob/main/aula6/lab_cnss_2_sw.ipynb\" target=\"_parent\"><img src=\"https://colab.research.google.com/assets/colab-badge.svg\" alt=\"Open In Colab\"/></a>"
      ]
    },
    {
      "cell_type": "markdown",
      "metadata": {
        "id": "luqG5vPZAidO"
      },
      "source": [
        "# Redes de Computadores\n",
        "## Computer Networks\n"
      ]
    },
    {
      "cell_type": "markdown",
      "metadata": {
        "id": "fEduXmaSfyDB"
      },
      "source": [
        "## Aula 6\n",
        "\n",
        "### Goal\n",
        "In this lab, students will get a better understanding of how packet switching network properties impact the end-to-end performance of sending information from one node to another. \n",
        "\n",
        "### Initial assumptions\n",
        "All links are perfect and never corrupt or lose packets. Nodes never crash or lose packets. All computations in CNSS are performed instantly, without any delay.\n",
        "\n",
        "Network configurations use links with the same characteristics: bandwidth of 2 Mbps, or 2,000,000 bps, and a propagation time, or latency, of 20 ms, since they have 4000 Km each (4000 Km / 200,000 Km per second = 4 x 10^3 / 2 x 10^5 Km per second = 2 x 10^-2 s = 20 ms).\n",
        "\n",
        "Three network configurations will be used: [config1.1.txt](https://github.com/smduarte/RC2021-labs/blob/main/aula6/configs/config1.1.txt), [config1.2.txt](https://github.com/smduarte/RC2021-labs/blob/main/aula6/configs/config1.2.txt) and \n",
        "[config1.3.txt](https://github.com/smduarte/RC2021-labs/blob/main/aula6/configs/config1.3.txt), depicted below.\n",
        "\n"
      ]
    },
    {
      "cell_type": "markdown",
      "metadata": {
        "id": "6HbanVzemT6L"
      },
      "source": [
        "![](https://github.com/jlegatheaux/RC2020-assignments/blob/master/assignment-1/figs/config1.1-3.png?raw=1)"
      ]
    },
    {
      "cell_type": "code",
      "metadata": {
        "id": "KswRWrm1lx0Z"
      },
      "source": [
        "%%writefile config1.1.txt\n",
        "# A network with a sender node and a receiver node interconnected\n",
        "# by a direct link. The link has 2 Mbps bandwidth and 20 ms latency\n",
        "\n",
        "\n",
        "# uncomment if you want to see control algorithms traces\n",
        "# parameter trace \n",
        "\n",
        "\n",
        "Node 0 1 cnss.lib.EndSystemControl NaifSWSender 10\n",
        "Node 1 1 cnss.lib.EndSystemControl SWReceiver\n",
        "\n",
        "Link 0.0 1.0 2000000 20 0.0 0.0"
      ],
      "execution_count": null,
      "outputs": []
    },
    {
      "cell_type": "code",
      "metadata": {
        "id": "wXN29SsDlyCt"
      },
      "source": [
        "%%writefile config1.2.txt\n",
        "# A network with a sender node and a receiver node interconnected\n",
        "# by a switch. Both links have 2 Mbps bandwidth and 20 ms latency\n",
        "\n",
        "\n",
        "# uncomment if you want to see control algorithms traces\n",
        "# parameter trace   \n",
        "\n",
        "Node 0 1 cnss.lib.EndSystemControl NaifSWSender 10\n",
        "Node 1 1 cnss.lib.EndSystemControl SWReceiver\n",
        "Node 2 2 cnss.lib.FloodingSwitch cnss.lib.EmptyApp\n",
        "\n",
        "Link 0.0 2.0 2000000 20 0.0 0.0\n",
        "Link 1.0 2.1 2000000 20 0.0 0.0"
      ],
      "execution_count": null,
      "outputs": []
    },
    {
      "cell_type": "code",
      "metadata": {
        "id": "2QQ75xsElyL0"
      },
      "source": [
        "%%writefile config1.3.txt\n",
        "# A network with a sender node and a receiver node interconnected\n",
        "# by two switches. All links have 2 Mbps bandwidth and 20 ms latency\n",
        "\n",
        "# uncomment if you want to see control algorithms traces\n",
        "# parameter trace   \n",
        "\n",
        "Node 0 1 cnss.lib.EndSystemControl NaifSWSender 10\n",
        "Node 1 1 cnss.lib.EndSystemControl SWReceiver\n",
        "Node 2 2 cnss.lib.FloodingSwitch cnss.lib.EmptyApp\n",
        "Node 3 2 cnss.lib.FloodingSwitch cnss.lib.EmptyApp\n",
        "\n",
        "Link 0.0 2.0 2000000 20 0.0 0.0\n",
        "Link 2.1 3.0 2000000 20 0.0 0.0\n",
        "Link 3.1 1.0 2000000 20 0.0 0.0"
      ],
      "execution_count": null,
      "outputs": []
    },
    {
      "cell_type": "markdown",
      "metadata": {
        "id": "cL2ohXqqvt1l"
      },
      "source": [
        "### Data Transmission with Flow Control\n",
        "\n",
        "In real networks several problems may arise, like packets being lost or delivered out of order to receiver nodes. To address these issues, protocols include methods for flow control, which rely on signals sent by receivers (or the network) to senders, telling them to stop, refraining from sending packets, or to continue sending them. \n",
        "\n",
        "### Stop and Wait Flow Control\n",
        "\n",
        "The simplest method of flow control is known as \"Stop & Wait\" flow control or S&W for short. S&W is also the name of the protocol that relies on this method. \n",
        "\n",
        "S&W is a very simple protocol. Each time the sender sends a packet, it will enter a waiting phase, up to reception of a signal from the receiver meaning that it received the packet and it is ready for the next one. These small signal packets are known as ***acknowledgement*** packets or *ACK* packets."
      ]
    },
    {
      "cell_type": "markdown",
      "metadata": {
        "id": "ZWRmpm4muE0D"
      },
      "source": [
        "### Naif S&W Sender\n",
        "\n",
        "The code below implements a simplistic S&W Sender node in CNSS.\n",
        "\n",
        "The protocol is implemented as follows:\n",
        "\n",
        "1. The sender receives, as an argument in the config file, the number of data blocks to be sent to the receiver;\n",
        "2. The data blocks are all of same constant size;\n",
        "3. The block begins with an integer number (starting at 0); the rest of the data left blank.\n",
        "4. On each 1 ms tick of the clock, the sender tries to send the next block, unless it is waiting for the previous block.\n",
        "5. When the sender receives a packet it is assumed it is the *ack* of the last packet sent, allowing the sender to proceed and send the next block. \n",
        "5. When the last block is confirmed, the sender prints some statistics."
      ]
    },
    {
      "cell_type": "code",
      "metadata": {
        "id": "P6KGp9SOuG8k"
      },
      "source": [
        "%%writefile NaifSWSender.java\n",
        "\n",
        "import java.nio.*;\n",
        "import cnss.lib.*;\n",
        "import cnss.simulator.*;\n",
        "\n",
        "public class NaifSWSender extends AbstractApplicationAlgorithm {\n",
        "    \n",
        "    private static final int RECEIVER = 1; //ID of receiver node\n",
        "    \n",
        "    public static int BLOCKSIZE = 10000; // 10000*8 = 80000 bits\n",
        "    public static int TOTAL_PACKETSIZE = BLOCKSIZE+Packet.HEADERSIZE; // 10000*8 = 80160 bits\n",
        "\n",
        "    public NaifSWSender() {\n",
        "        super(true, \"naif-sw-sender\");\n",
        "    }\n",
        "\n",
        "    int totalBlocks;\n",
        "    int nextBlock;\n",
        "    int totSent;\n",
        "    int bytesSent;\n",
        "    int startTime;\n",
        "\n",
        "    boolean maySend;\n",
        "    \n",
        "    public int initialise(int now, int node_id, Node self, String[] args) {\n",
        "        super.initialise(now, node_id, self, args);\n",
        "        if ( args.length != 1 ) {\n",
        "            log(now, \"ERROR: files-sender: missing argument totalBlocks \"+now+\"\\n\\n\");\n",
        "            System.exit(-1);\n",
        "        }\n",
        "\n",
        "        log(now, \"starting\");\n",
        "\n",
        "        totalBlocks = Integer.valueOf(args[0]);\n",
        "        nextBlock = 0;\n",
        "        totSent = 0;\n",
        "        bytesSent = 0;\n",
        "        startTime = now;\n",
        "\n",
        "        maySend = true;\n",
        "        return 1;\n",
        "    }\n",
        "\n",
        "    public void on_clock_tick( int now) {\n",
        "        if (maySend && nextBlock < totalBlocks)\n",
        "        sendBlock( now, nextBlock);\n",
        "    }\n",
        "    \n",
        "    private void sendBlock( int now, int block) {\n",
        "        byte[] payload = ByteBuffer.allocate(TOTAL_PACKETSIZE).putInt(0, block).array();\n",
        "        \n",
        "        self.send( self.createDataPacket( RECEIVER, payload ));\n",
        "        \n",
        "        totSent++;\n",
        "        bytesSent += payload.length;\n",
        "        maySend = false;\n",
        "        log(now, String.format(\"Sent block %d (%d bytes)\", block, payload.length));\t\t\n",
        "    }\n",
        "    \n",
        "    public void on_receive(int now, DataPacket p) {\n",
        "        int ackedBlock = ByteBuffer.wrap(p.getPayload()).getInt(0);\n",
        "        \n",
        "        log(now, String.format(\"Got ack for block: %d\", ackedBlock));\n",
        "        \n",
        "        if( nextBlock == totalBlocks - 1)\n",
        "            showState( now );\n",
        "        else {\n",
        "            nextBlock++;\n",
        "            maySend = true;\n",
        "        }\n",
        "    }\n",
        "\n",
        "    public void showState(int now) {\n",
        "        int transferTime = now - startTime;\n",
        "        int e2eTransferRate = bytesSent * 8 / (transferTime);\n",
        "\n",
        "        System.out.printf(\"---------------------------------------------\\n\");\n",
        "        System.out.printf(\"%s Blocks sent: %d\\n\", name, totSent);\n",
        "        System.out.printf(\"%s Bytes sent: %d\\n\", name, bytesSent);\n",
        "        System.out.printf(\"%s Transfer time: %d ms\\n\", name, transferTime);\n",
        "        System.out.printf(\"%s EndToEnd rate: %d Kbps\\n\", name, e2eTransferRate);\t\t\n",
        "        System.out.printf(\"---------------------------------------------\\n\");\n",
        "    }\n",
        "}"
      ],
      "execution_count": null,
      "outputs": []
    },
    {
      "cell_type": "markdown",
      "metadata": {
        "id": "gZelitmnt5_g"
      },
      "source": [
        "### Receiver\n",
        "\n",
        "The receiver node is very simple. \n",
        "\n",
        "It just awaits the arrival of data blocks and handles each received data block, by sending an ack packet containing the received block number back to the sender node."
      ]
    },
    {
      "cell_type": "code",
      "metadata": {
        "id": "EogclebxpBx8"
      },
      "source": [
        "%%writefile SWReceiver.java\n",
        "\n",
        "import java.nio.*;\n",
        "import cnss.lib.*;\n",
        "import cnss.simulator.*;\n",
        "\n",
        "public class Receiver extends AbstractApplicationAlgorithm {\n",
        "    \n",
        "    public SWReceiver() {\n",
        "        super(true, \"sw-receiver\");\n",
        "    }\n",
        "\n",
        "    public int initialise(int now, int node_id, Node self, String[] args) {\n",
        "        super.initialise(now, node_id, self, args);\n",
        "        log(0, \"starting...\");\n",
        "        return 0;\n",
        "    }\n",
        "\n",
        "    public void on_receive(int now, DataPacket p) {\n",
        "        int block = ByteBuffer.wrap(p.getPayload()).getInt(0);\n",
        "        \n",
        "        log(now, String.format(\"got block: %d\", block));\n",
        "        \n",
        "        byte[] ackPayload = ByteBuffer.allocate(Integer.BYTES).putInt(0, block).array();\n",
        "        \n",
        "        self.send(self.createDataPacket(p.getSource(), ackPayload));\n",
        "    }\n",
        "} "
      ],
      "execution_count": null,
      "outputs": []
    },
    {
      "cell_type": "markdown",
      "metadata": {
        "id": "kAWQc70s19Jo"
      },
      "source": [
        "\n",
        "### Execution\n",
        "\n",
        "In this simulation, using configuration [config1.1](https://github.com/smduarte/RC2021-labs/blob/main/aula6/configs/config1.1.txt), the sender and receiver are connected by a dedicated link."
      ]
    },
    {
      "cell_type": "code",
      "metadata": {
        "id": "Ci1Ep6xBuU--"
      },
      "source": [
        "%%bash \n",
        "\n",
        "# Fetch the CNSS repository and compile it\n",
        "git clone https://github.com/jlegatheaux/cnss.git 2> /dev/null || git -C cnss pull\n",
        "javac -d cnss-classes cnss/src/*/*/*.java\n",
        "\n",
        "javac -cp .:cnss-classes *.java\n",
        "java -cp .:cnss-classes cnss.simulator.Simulator config1.1.txt"
      ],
      "execution_count": null,
      "outputs": []
    },
    {
      "cell_type": "markdown",
      "metadata": {
        "id": "jCu7jlilAidb"
      },
      "source": [
        "### Exercise #1\n",
        "\n",
        "Run simulations using the other two configs: [config1.2](https://github.com/smduarte/RC2021-labs/blob/main/aula6/configs/config1.2.txt) and [config1.3](https://github.com/smduarte/RC2021-labs/blob/main/aula6/configs/config1.3.txt)\n",
        "\n",
        "\n",
        "Confirm that the simulation results match the end-to-end rate obtained analytically based\n",
        "on the topology and link characteristics of the simulated network."
      ]
    },
    {
      "cell_type": "markdown",
      "metadata": {
        "id": "0Z_t5cqzAidc"
      },
      "source": [
        "### Exercise #2\n",
        "\n",
        "The provided implementation is too simplistic (naive). In more realistic networking conditions, packet loss is not zero. The provided sender is missing a timeout mechanism and will fail to complete the data transfer if packets are lost.\n",
        "\n",
        "Modify the S&W sender and receiver nodes to account for packet loss and perform block retransmissions.\n",
        "\n",
        "To implement a timeout mechanism, you can use the built-in mechanism in CNSS, or you\n",
        "can override the **maySend** flag if too many ticks have elapsed without an ack."
      ]
    }
  ]
}