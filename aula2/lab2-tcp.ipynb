{
 "cells": [
  {
   "cell_type": "markdown",
   "id": "a1504a5f",
   "metadata": {
    "slideshow": {
     "slide_type": "slide"
    }
   },
   "source": [
    "# Redes de Computadores\n",
    "### Computer Networks"
   ]
  },
  {
   "cell_type": "markdown",
   "id": "697ee818",
   "metadata": {
    "slideshow": {
     "slide_type": "slide"
    }
   },
   "source": [
    "# Lab class #2\n",
    "## Stream oriented network programming with TCP sockets\n"
   ]
  },
  {
   "cell_type": "markdown",
   "id": "eba5d513",
   "metadata": {
    "slideshow": {
     "slide_type": "slide"
    }
   },
   "source": [
    "## Summary\n",
    "\n",
    "+ Client/Server model\n",
    "+ Java example\n",
    "+ Exercise: File transfer"
   ]
  },
  {
   "cell_type": "markdown",
   "id": "ff660837",
   "metadata": {
    "slideshow": {
     "slide_type": "slide"
    }
   },
   "source": [
    "## Client/Server model\n",
    "\n",
    "+ Two autonomous components:\n",
    " - **server** - first to run and usually always running;\n",
    " \n",
    " - **client** - usually started by user to request a service...\n",
    " "
   ]
  },
  {
   "cell_type": "markdown",
   "id": "5cce460e",
   "metadata": {
    "slideshow": {
     "slide_type": "fragment"
    }
   },
   "source": [
    "Therefore, TCP follows the same abstract client/server model that characterizes UDP communication."
   ]
  },
  {
   "cell_type": "markdown",
   "id": "3b531385",
   "metadata": {
    "slideshow": {
     "slide_type": "slide"
    }
   },
   "source": [
    "## Client/Server model\n",
    "### Execution diagram\n",
    "\n",
    "<img src=\"https://docs.google.com/drawings/d/e/2PACX-1vRO-wtMt-_EBYjecn_Hwc5xLkBDfrUZQcnqimzpbXJ-YSiaOfyh6U3oQEOLobk5requzhiiwz7d5SlF/pub?w=960&amp;h=720\" width=\"75%\">"
   ]
  },
  {
   "cell_type": "markdown",
   "id": "68367820",
   "metadata": {
    "slideshow": {
     "slide_type": "slide"
    }
   },
   "source": [
    "## TCP channel\n",
    "\n",
    "* **Reliable** connection between two processes;<br>\n",
    "\n",
    "* **Initiated** by the client, addressed to a machine and port, where the server **already** awaits connection requests;<br>\n",
    "\n",
    "* Enables a continuous and bidirectional flow of data (bytes) between the two processes;<br>\n",
    "\n",
    "* Closed at the request of **either** the client or the server;<br>\n",
    "\n",
    "* Both the client and server **are aware** when a connection is established or broken/closed.<br>\n",
    "\n",
    "\n",
    "\n"
   ]
  },
  {
   "cell_type": "markdown",
   "id": "402fdb0f",
   "metadata": {
    "slideshow": {
     "slide_type": "slide"
    }
   },
   "source": [
    "## TCP oriented communication\n",
    "\n",
    "+ Communication is based on **sockets**\n",
    "    - TCP sockets for accepting connections (server)\n",
    "    - TCP sockets for data exchange (client and server)\n",
    "    \n",
    "\n",
    "+ Addresses identify connection endpoints (*origin* and *destination* processes/sockets);\n",
    "    - **Host** (IP Address)\n",
    "      ``10.1.233.67, 127.0.0.1, 192.168.1.1, etc.``\n",
    "    - **Port** (16 bits)\n",
    "     ``80, 443, 8000, 8080, etc.``\n",
    " "
   ]
  },
  {
   "cell_type": "markdown",
   "id": "6a71aea7",
   "metadata": {
    "slideshow": {
     "slide_type": "notes"
    }
   },
   "source": [
    "TCP and UDP ports are independent. \n",
    "\n",
    "We can have a TCP server listening on port 8000 and\n",
    "an UDP server also on port 8000. These will be different ports."
   ]
  },
  {
   "cell_type": "markdown",
   "id": "1d5b0116",
   "metadata": {
    "slideshow": {
     "slide_type": "slide"
    }
   },
   "source": [
    "## Java Programming with UDP datagrams\n",
    "\n",
    "+ Java package\n",
    "\n",
    "    [java.net](https://docs.oracle.com/en/java/javase/16/docs/api/java.base/java/net/package-summary.html)\n",
    "    \n",
    "    [java.io](https://docs.oracle.com/en/java/javase/16/docs/api/java.base/java/io/package-summary.html)\n",
    " \n",
    " \n",
    "+ Java classes\n",
    "\n",
    "    [Socket](https://docs.oracle.com/en/java/javase/16/docs/api/java.base/java/net/Socket.html)\n",
    "\n",
    "    [ServerSocket](https://docs.oracle.com/en/java/javase/16/docs/api/java.base/java/net/ServerSocket.html)\n",
    "\n",
    "    [InputStream](https://docs.oracle.com/en/java/javase/16/docs/api/java.base/java/io/InputStream.html) /\n",
    "    [OutputStream](https://docs.oracle.com/en/java/javase/16/docs/api/java.base/java/io/OutputStream.html)\n"
   ]
  },
  {
   "cell_type": "markdown",
   "id": "5cbc0be1",
   "metadata": {
    "slideshow": {
     "slide_type": "slide"
    }
   },
   "source": [
    "## Example: Echo service\n",
    "\n",
    "+ Client connects to a server (IP + port) and sends some bytes;\n",
    "+ Server copies that data back to the client."
   ]
  },
  {
   "cell_type": "markdown",
   "id": "4450bd8c",
   "metadata": {
    "slideshow": {
     "slide_type": "slide"
    }
   },
   "source": [
    "## Server"
   ]
  },
  {
   "cell_type": "code",
   "execution_count": null,
   "id": "058cb3ac",
   "metadata": {
    "slideshow": {
     "slide_type": "fragment"
    }
   },
   "outputs": [],
   "source": [
    "import java.io.*;\n",
    "import java.net.*;\n",
    "\n",
    "static final int PORT = 8000;\n",
    "static final int BUF_SIZE = 1024;\n",
    "\n",
    "try (ServerSocket ss = new ServerSocket(PORT)) {\n",
    "    for (;;) {\n",
    "        try( Socket cs = ss.accept()){\n",
    "            \n",
    "            InputStream is = cs.getInputStream();\n",
    "            OutputStream os = cs.getOutputStream();\n",
    "\n",
    "            byte[] buf = new byte[BUF_SIZE];\n",
    "\n",
    "            int n;\n",
    "            while( (n = is.read( buf )) > 0 )\n",
    "                os.write( buf, 0, n);\n",
    "            \n",
    "        } catch( IOException x) {\n",
    "            x.printStackTrace();\n",
    "        }\n",
    "    }\n",
    "} catch (IOException x) {\n",
    "    x.printStackTrace();\n",
    "}"
   ]
  },
  {
   "cell_type": "markdown",
   "id": "18d63b39",
   "metadata": {
    "slideshow": {
     "slide_type": "slide"
    }
   },
   "source": [
    "## Client"
   ]
  },
  {
   "cell_type": "code",
   "execution_count": null,
   "id": "89bbc187",
   "metadata": {
    "slideshow": {
     "slide_type": "fragment"
    }
   },
   "outputs": [],
   "source": [
    "String host = args[0];\n",
    "String message = args[2];\n",
    "int port = Integer.valueOf(args[1]);\n",
    "\n",
    "try (Socket cs = new Socket(host, port)) {\n",
    "    \n",
    "    OutputStream os = cs.getOutputStream();\n",
    "    \n",
    "    os.write( message.getBytes() );\n",
    "    cs.shutdownOutput();\n",
    "\n",
    "    InputStream is = cs.getInputStream();\n",
    "    \n",
    "    byte[] echo = is.readAllBytes();\n",
    "    \n",
    "    System.out.printf(\"echo reply: '%s'\\n\", new String( echo ) );\n",
    "} catch (IOException x) {\n",
    "    x.printStackTrace();\n",
    "}"
   ]
  },
  {
   "cell_type": "markdown",
   "id": "d75d2bec",
   "metadata": {
    "slideshow": {
     "slide_type": "slide"
    }
   },
   "source": [
    "## Class [ServerSocket](https://docs.oracle.com/en/java/javase/16/docs/api/java.base/java/net/ServerSocket.html)\n",
    "\n",
    "The ServerSocket class is used **exclusively** in the server to listen for incoming tcp connections."
   ]
  },
  {
   "cell_type": "code",
   "execution_count": null,
   "id": "c8691cdb",
   "metadata": {
    "slideshow": {
     "slide_type": "fragment"
    }
   },
   "outputs": [],
   "source": [
    "// Server\n",
    "try(ServerSocket socket = new ServerSocket( PORT )) {\n",
    "    \n",
    "}"
   ]
  },
  {
   "cell_type": "markdown",
   "id": "fde184dc",
   "metadata": {
    "slideshow": {
     "slide_type": "slide"
    }
   },
   "source": [
    "## Class [Socket](https://docs.oracle.com/en/java/javase/16/docs/api/java.base/java/net/Socket.html)\n",
    "\n",
    "Socket class object represent the actual tcp connections between client and server processes.\n",
    "\n",
    "Data exchange (read/write of bytes) is supported by the [InputStream](https://docs.oracle.com/en/java/javase/16/docs/api/java.base/java/io/InputStream.html) / [OutputStream](https://docs.oracle.com/en/java/javase/16/docs/api/java.base/java/io/OutputStream.html) objects associated with each Socket instance pair.\n",
    "\n"
   ]
  },
  {
   "cell_type": "code",
   "execution_count": null,
   "id": "836a8943",
   "metadata": {
    "slideshow": {
     "slide_type": "fragment"
    }
   },
   "outputs": [],
   "source": [
    "// Client\n",
    "try(Socket socket = new Socket(host, port)) {\n",
    "    ...\n",
    "}\n",
    "\n",
    "// Server\n",
    "try(Socket socket = serverSocket.accept()) {\n",
    "    ...\n",
    "}"
   ]
  },
  {
   "cell_type": "markdown",
   "id": "5617ac37",
   "metadata": {
    "slideshow": {
     "slide_type": "slide"
    }
   },
   "source": [
    "## Exercise 1\n",
    "\n",
    "Try the provided EchoService sample code locally in your machine, then\n",
    "using Docker."
   ]
  },
  {
   "cell_type": "markdown",
   "id": "964b39f9",
   "metadata": {
    "slideshow": {
     "slide_type": "notes"
    }
   },
   "source": [
    "1. Study the [tcp.EchoServer](https://github.com/smduarte/RC2021-labs/blob/main/aula2/RC2021-aula2/src/tcp/EchoServer.java) and [tcp.EchoClient](https://github.com/smduarte/RC2021-labs/blob/main/aula2/RC2021-aula2/src/tcp/EchoClient.java) classes. Use the provided [Eclipse project](https://github.com/smduarte/RC2021-labs/blob/main/aula2/RC2021-aula2.zip), by importing it into an Eclipse workspace.\n",
    "\n",
    "\n",
    "2. Run the sample code locally in your machine...\n",
    "\n",
    "    + Compile the classes, either in Eclipse or using javac;\n",
    "    + Launch the server (no params)\n",
    "    + Run the echo client, using either \"localhost\" or \"127.0.0.1\" for\n",
    "    the ip address of the server;\n",
    "    \n",
    "\n",
    "3. Run the sample code using Docker...\n",
    "\n",
    "    + Build the docker image (assuming the classes are compiled), running in the project root folder (containing the [Dockerfile](https://github.com/smduarte/RC2021-labs/blob/main/aula2/RC2021-aula2/Dockerfile)):\n",
    "    \n",
    "    `docker build . -t rc2021-aula2`<br><br>\n",
    "    \n",
    "    + Launch the echo server:\n",
    "    \n",
    "    `docker run -ti --name echoserver_tcp rc2021-aula2 java tcp.EchoServer`<br><br>\n",
    "\n",
    "    + Inspect the container to determine its IP address:\n",
    "    \n",
    "    `docker inspect echoserver_tcp`<br><br>\n",
    "    \n",
    "    + Run the echo client, replacing `<ip>` with the ip address of the echo server. \n",
    "    \n",
    "    `docker run -ti rc2021-aula2 java tcp.EchoClient <ip> 8000 \"this is a test\"`"
   ]
  },
  {
   "cell_type": "markdown",
   "id": "100082ae",
   "metadata": {
    "slideshow": {
     "slide_type": "slide"
    }
   },
   "source": [
    "## Exercise 2 - TCP file transfer\n",
    "\n",
    "Use TCP to transfer a file between a client and a server.\n",
    "\n",
    "Complete the provided [server](https://github.com/smduarte/RC2021-labs/blob/main/aula2/RC2021-aula2-ex2.zip), knowing that the client first\n",
    "sends a line of text with the name of the file being transferred, then followed by the bytes of the file's contents.\n",
    "\n",
    "The server should consider the transfer is complete when the client closes the connection."
   ]
  }
 ],
 "metadata": {
  "celltoolbar": "Slideshow",
  "kernelspec": {
   "display_name": "Ganymede 1.1.0.20210614 (Java 16)",
   "language": "java",
   "name": "ganymede-1.1.0.20210614-java-16"
  },
  "language_info": {
   "file_extension": ".java",
   "mimetype": "text/x-java",
   "name": "java",
   "version": "16"
  }
 },
 "nbformat": 4,
 "nbformat_minor": 5
}
