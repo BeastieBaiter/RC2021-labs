{
 "cells": [
  {
   "cell_type": "markdown",
   "id": "a386f9cd",
   "metadata": {},
   "source": [
    "# Redes de Computadores\n",
    "\n",
    "## Trabalho Prático Tp1\n",
    "### MpegDashProxy\n",
    "draft: 0.1\n",
    "\n",
    "O objetivo deste trabalho é desenvolver um *proxy* HTTP para suporte à reprodução num browser de filmes disponibilizados segundo os princípios do [MPEG-DASH](https://en.wikipedia.org/wiki/Dynamic_Adaptive_Streaming_over_HTTP) (Dynamic Adaptable Streaming over HTTP).\n",
    "\n",
    "### Contexto\n",
    "Um servidor HTTP disponibiliza filmes, cada um codificado em diversas qualidades ou resoluções (bitrates). Cada versão de um filme é denominada de pista (*track*) e é composta por segmentos com duração **idêntica** de alguns segundos, mas de dimensão diferente de acordo com a *bitrate* utilizada. A codificação das pistas foi realizada de modo a que o número total de segmentos e a sua duração seja igual em todas as pistas de um mesmo filme. Adicionalmente, temporalmente, os segmentos estão perfeitamente alinhados entre pistas, pelo que são funcionalmente equivalentes.\n",
    "\n",
    "A reprodução de um filme realiza-se no *browser* por recurso a um reprodutor (*player*) *javascript*. Para que a reprodução de um filme seja correta, é necessário que os segmentos de um filme sejam entregues ao *player* **atempadamente**, na ordem correta, mas independentemente da pista a que pertencem. \n",
    "\n",
    "O diálogo entre o *browser* (*player* *javascript*) e o servidor HTTP onde estão armazenados os filmes será mediado por um *proxy* HTTP. A função deste *proxy* será adequar a qualidade dos segmentos entregues ao *player*, dinamicamente, em função do débito da rede disponível, mas evitando que a reprodução sofra interrupções por falta de dados. Monitorizando o estado da rede, em momentos favoráveis, espera-se que o *proxy* dê prioridade aos segmentos\n",
    "de pistas de qualidade mais elevada, fazendo o oposto para reagir à degradação do débito da rede ou havendo o risco de o *player* estar prestes a parar. Neste último caso, optando por transferir do servidor segmentos de pior qualidade, mas de menor dimensão.\n",
    "\n",
    "O diagrama, abaixo, ilustra um esboço do protocolo de comunicação entre os componentes, mostrando que depois de obter a descrição de um filme, contida num ficheiro *manifest.txt*, o *proxy* responde\n",
    "aos sucessivos pedidos do *browser* com segmentos em sequência crescente, mas de pistas diferentes.\n",
    "\n",
    "<img src=\"https://docs.google.com/drawings/d/e/2PACX-1vSlfmLzJb9VxMaue_znHJArdw0q78iwoy6tWM2xu2KS95ty-QgVAhyOTAShsblx0jPqZo-9m5VMUP0D/pub?w=1438&h=704\" width=\"75%\"></img>\n",
    "\n",
    "\n",
    "\n",
    "### Materiais fornecidos\n",
    "\n",
    "É fornecido [código Java 17](https://github.com/smduarte/RC2021-labs/tree/main/tp1/RC2021-MpegDash-tp1) com um esqueleto da solução. A faceta servidor do *proxy* HTTP, que implementa a interação entre o *browser* e o *proxy* está completa, ficando a faltar a faceta cliente HTTP que dialoga com o servidor que aloja os filmes e implementa a heurística de escolha dos segmentos a transferir.\n",
    "\n",
    "Adicionalmente são fornecidos:\n",
    "\n",
    "+ Uma página *web* que implementa o *player* e que será o cliente do *proxy* HTTP a completar;\n",
    "+ Um servidor HTTP para alojar os filmes e a página web do *player*;\n",
    "+ Dois pequenos filmes codificados em várias qualidades, nos formatos adequados;\n",
    "+ Imagens *Docker* para executar o servidor HTTP, simulando condições de rede variáveis.\n",
    "\n"
   ]
  },
  {
   "cell_type": "code",
   "execution_count": null,
   "id": "2d61f5a6",
   "metadata": {},
   "outputs": [],
   "source": []
  }
 ],
 "metadata": {
  "kernelspec": {
   "display_name": "Ganymede 1.1.0.20210614 (Java 16)",
   "language": "java",
   "name": "ganymede-1.1.0.20210614-java-16"
  },
  "language_info": {
   "file_extension": ".java",
   "mimetype": "text/x-java",
   "name": "java",
   "version": "16"
  }
 },
 "nbformat": 4,
 "nbformat_minor": 5
}
