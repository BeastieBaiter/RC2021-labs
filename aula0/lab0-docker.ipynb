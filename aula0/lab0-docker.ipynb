{
 "cells": [
  {
   "cell_type": "markdown",
   "id": "c9a8ab16",
   "metadata": {
    "slideshow": {
     "slide_type": "slide"
    }
   },
   "source": [
    "# Redes de Computadores\n",
    "### Computer Networks"
   ]
  },
  {
   "cell_type": "markdown",
   "id": "a505f62f",
   "metadata": {
    "slideshow": {
     "slide_type": "slide"
    }
   },
   "source": [
    "# Lab class #0\n",
    "## Docker containers\n"
   ]
  },
  {
   "cell_type": "markdown",
   "id": "d942aac8",
   "metadata": {
    "slideshow": {
     "slide_type": "slide"
    }
   },
   "source": [
    "## Summary\n",
    "\n",
    "+ Virtualization\n",
    "+ Docker\n",
    "+ Exercises"
   ]
  },
  {
   "cell_type": "markdown",
   "id": "92e67b4f",
   "metadata": {
    "slideshow": {
     "slide_type": "slide"
    }
   },
   "source": [
    "## Virtualization\n",
    "\n",
    "In short, [hardware virtualization](https://en.wikipedia.org/wiki/Hardware_virtualization) is a technique for creating virtual instances of a computing platform, using software to \"simulate\" the virtual hardware platform.\n"
   ]
  },
  {
   "cell_type": "markdown",
   "id": "44cee2bd",
   "metadata": {
    "slideshow": {
     "slide_type": "subslide"
    }
   },
   "source": [
    "### Virtual machines \n",
    "\n",
    "A [virtual machine](https://en.wikipedia.org/wiki/Virtual_machine) is a form of virtualization that is intended to simulate a full hardware platform on a real machine - the host machine, on top of which a *guest* operating system is installed and operated. The *guest* operating system can then be used to execute **multiple applications** on behalf of the user.\n",
    "\n",
    "The technique has applications in legacy systems, security and **distributed systems**."
   ]
  },
  {
   "cell_type": "markdown",
   "id": "7530af73",
   "metadata": {
    "slideshow": {
     "slide_type": "subslide"
    }
   },
   "source": [
    "### Containers\n",
    "\n",
    "[Containers](https://en.wikipedia.org/wiki/OS-level_virtualization) is a restricted form of OS-level virtualtization that is mostly intended to virtualize (and isolate) the execution environment of **specific applications**. \n",
    "\n",
    "Containers do not execute full dedicated \n",
    "virtualized operating systems. Instead, the **host operating system** only provides a virtualized environment \n",
    "to the target application and its dependencies, thus, consuming fewer host resources.\n",
    "\n",
    "Containers are a relatively lightweight and a simple way to package and deploy complex applications/services.\n",
    "\n",
    "[Docker](https://www.docker.com/) and [Kubernetes](https://kubernetes.io/) are examples of container technologies."
   ]
  },
  {
   "cell_type": "markdown",
   "id": "9b8d6b63",
   "metadata": {
    "slideshow": {
     "slide_type": "slide"
    }
   },
   "source": [
    "## Docker \n",
    "\n",
    "[Docker](https://www.docker.com/) is a container technology that can be\n",
    "used in personal computers with modest CPU and RAM requirements.\n",
    "\n",
    "It is available for Windows, Linux and MacOS.\n",
    "\n",
    "Usually, when we talk about **docker containers**, we mean Linux docker containers,\n",
    "packaging Linux applications/services."
   ]
  },
  {
   "cell_type": "markdown",
   "id": "5f13e149",
   "metadata": {
    "slideshow": {
     "slide_type": "subslide"
    }
   },
   "source": [
    "### Docker under the hood\n",
    "\n",
    "In Linux, Docker executes containers **natively** using the isolation provided by the kernel, via [*namespaces*](https://en.wikipedia.org/wiki/Linux_namespaces). \n",
    "\n",
    "In MacOS, a docker installation consists of a (hidden) guest Linux virtual machine that hosts and executes the docker containers. The MacOS Docker application interfaces with a server executing in the guest virtual machine.\n",
    "\n",
    "In Windows, docker containers also rely on the services of a Linux kernel. In recent Window versions, that kernel is tightly integrated to the Windows kernel via the [Windows Linux Subsystem](https://docs.microsoft.com/en-us/windows/wsl/). If the Docker [Windows Linux Subsystem](https://docs.docker.com/desktop/windows/wsl/) backend is not supported on the host machine, an alternative way is to use a virtual machine running a guest Linux installation, and install docker there.  "
   ]
  },
  {
   "cell_type": "markdown",
   "id": "13e87489",
   "metadata": {},
   "source": [
    "### Docker architecture \n",
    "\n",
    "Docker architecture comprises several components.\n",
    "\n",
    "* **Docker registry**\n",
    "    A (cloud-based) repository of *images*. An image contains the static environment (files and executables) needed to execute a container;\n",
    "* **Docker client**\n",
    "    User application for managing containers, eg., running and stopping containers;\n",
    "* **Docker daemon**\n",
    "    A server that executes in the host machine, listening for commands from the docker client.\n",
    "    Does the actual operations on containers.\n",
    "\n",
    "<img src=\"https://docs.docker.com/engine/images/architecture.svg\" width=\"75%\">\n",
    "\n",
    "<p>diagram pulled from docs.docker.com</p>"
   ]
  },
  {
   "cell_type": "markdown",
   "id": "640e2cff",
   "metadata": {
    "slideshow": {
     "slide_type": "subslide"
    }
   },
   "source": [
    "### Docker installation\n",
    "\n",
    "Install docker in your personal computer, using one of these guides:\n",
    "\n",
    "* [Linux](https://docs.docker.com/engine/install/)\n",
    "* [Windows](https://docs.docker.com/desktop/windows/wsl/)\n",
    "* [MacOS](https://docs.docker.com/desktop/mac/install/)"
   ]
  },
  {
   "cell_type": "markdown",
   "id": "96d081c0",
   "metadata": {
    "slideshow": {
     "slide_type": "notes"
    }
   },
   "source": [
    "Note: In Windows, it may be necessary to enable CPU virtualization at the BIOS\n",
    "level. Some Windows versions do not support WSL and the only option may be to install\n",
    "a Linux virtual machine, using [VirtualBox](https://www.virtualbox.org/), for example.\n",
    "\n",
    "In Linux, make sure you perform the [post installation step](https://docs.docker.com/engine/install/linux-postinstall/) to be able to run docker without *sudo* (root privileges)."
   ]
  },
  {
   "cell_type": "markdown",
   "id": "cb0fb0a6",
   "metadata": {},
   "source": [
    "### Docker images\n",
    "\n",
    "Docker images are built from set of commands stored in a text file: [Dockerfile](https://docs.docker.com/engine/reference/builder/). \n",
    "\n",
    "A new image starts from a *base image* and is modified mainly\n",
    "by adding files to it or executing linux commands to install the target application and its dependencies.\n"
   ]
  },
  {
   "cell_type": "markdown",
   "id": "f4220355",
   "metadata": {},
   "source": [
    "#### Dockerfile example\n",
    "\n",
    "<hr>\n",
    "\n",
    "```\n",
    "FROM ubuntu\n",
    "\n",
    "RUN apt-get update && \\\n",
    "\tapt-get install -y iputils-ping iproute2 openjdk-16-jdk-headless\n",
    "```\n",
    "<hr>\n",
    "\n",
    "The Dockerfile above will create a container image *FROM* a base *ubuntu* image,\n",
    "which is already present in the docker registry.\n",
    "\n",
    "The *RUN* command is used to install the ubuntu packages `iputils-ping`, `iproute2` and `openjdk-16-jdk-headless`, via the `apt-get` utility.\n",
    "\n",
    "Check the [Dockerfile referece](https://docs.docker.com/engine/reference/builder/) for  full syntax and semantics of the available Dockerfile commands."
   ]
  },
  {
   "cell_type": "markdown",
   "id": "c17b066c",
   "metadata": {},
   "source": [
    "#### Managing Docker images\n",
    "\n",
    "The relevant CLI commands are:\n",
    "\n",
    "+ `docker build . -t <img>` \n",
    "    - creates an image with name tag `<img>` using the Dockerfile contained in the current directory;\n",
    "+ `docker push <img>`\n",
    "    - uploads the image with name tag `<img>` to the docker registry (the user must have an account);\n",
    "\n",
    "<hr>\n",
    "\n",
    "+ `docker images`\n",
    "    - lists the images stored in the local host repository\n",
    "+ `docker rmi -f <img>`\n",
    "    - tries to remove forcebly an image from the local host repository\n",
    "   "
   ]
  },
  {
   "cell_type": "markdown",
   "id": "ca58d26f",
   "metadata": {},
   "source": [
    "### Exercise 1\n",
    "\n",
    "Create a docker image using the Dockerfile above.\n",
    "The image should be named `rc2122-aula0`\n",
    "\n",
    "1. Create a new directory/folder named `aula0`;\n",
    "2. Place a text file named `Dockerfile` in `aula0` with the contents from the example above;\n",
    "3. Build the image with the command `docker build ...`;\n",
    "4. List the images found in the local repository with `docker images` to confirm the image name is as expected;\n",
    "5. Remove the image you just built with `docker rmi -f`;\n",
    "6. Rebuild the image as in step 1.\n",
    "\n",
    "Optionally, push the image to the Docker repository. You will need to create\n",
    "a free account, and name your images, accordingly, like so:\n",
    "\n",
    "`<login>/<image>`\n"
   ]
  },
  {
   "cell_type": "markdown",
   "id": "afb87948",
   "metadata": {},
   "source": [
    "### Managing containers\n",
    "\n",
    "There are several CLI commands to manage the execution of\n",
    "containers. Moreover, the behavior of each command is\n",
    "controlled by a number of flags.\n",
    "\n",
    "#### Launch\n",
    "\n",
    "* `docker run -d <img>` \n",
    "    - Launches a new container from image `<img>`. \n",
    "    \n",
    "    The flag `-d` means the new container will run in *detached* mode.\n",
    "    \n",
    "* `docker run -t -i <img>` \n",
    "    - The new container runs attached to an output terminal `-t` and in interactive\n",
    "    mode `-i`. \n",
    "\n",
    "* `docker run -h C1 -t -i <img>` \n",
    "    - The new container is launched and given `C1` as its hostname.\n",
    "<br>\n",
    "\n",
    "#### Listing\n",
    "\n",
    "* `docker ps`\n",
    "    - Lists the containers that are running.\n",
    "    \n",
    "    <br>\n",
    "    \n",
    "* `docker ps -a`\n",
    "    - List all containers, including those that are stopped or terminated.\n",
    "<br>\n",
    "\n",
    "#### Stop and start\n",
    "\n",
    "* `docker stop <id>`\n",
    "    - stops the given container, keeping its saved state.\n",
    "    \n",
    "    <br>\n",
    "    \n",
    "* `docker start <id>`\n",
    "    - (re)starts the given container from its saved state.\n",
    "<br>\n",
    "\n",
    "#### Removal\n",
    "\n",
    "* `docker rm -f <id>`\n",
    "    - removes the given container, forcing stop if necessary.\n"
   ]
  },
  {
   "cell_type": "markdown",
   "id": "6a0c3e82",
   "metadata": {},
   "source": [
    "### Docker container networking\n",
    "\n",
    "By default, when containers are launched, each receives a **separate**, dedicated, networking\n",
    "environment, including a private IP networking address. \n",
    "\n",
    "Communication with the outside world, goes\n",
    "through the host system, which acts as **router**. \n",
    "\n",
    "Docker containers can talk with each other, but it is possible to isolate them completely, for example for security reasons. This isolation can be achieved by attaching containers to different *docker networks*."
   ]
  },
  {
   "cell_type": "markdown",
   "id": "394017fd",
   "metadata": {},
   "source": [
    "The obtain the networking information about a given container\n",
    "use the following command in the host computer:\n",
    "\n",
    "`docker inspect <id>`\n",
    "\n",
    "The inspect command dumps all kinds of information about a container, given its id, including its networking details.\n",
    "\n",
    "`grep` is a command line utility that can be used to filter and isolate only the output lines\n",
    "that match a given word or pattern:\n",
    "\n",
    "`docker inspect <id> | grep IPAddress`\n",
    "\n"
   ]
  },
  {
   "cell_type": "markdown",
   "id": "33465d86",
   "metadata": {},
   "source": [
    "### Exercise 2\n",
    "\n",
    "1. Launch a new container using the image `rc2122-aula0` that you created earlier.\n",
    "\n",
    "    `docker run -ti rc2122-aula0 /bin/bash`\n",
    "\n",
    "\n",
    "2. In the container shell, type:\n",
    "\n",
    "    `ip addr show | grep inet`\n",
    "    \n",
    "    This will show the IP address of the container.\n",
    "    \n",
    "    \n",
    "3. In the host, inspect the container:\n",
    "\n",
    "    `docker inspect <id> | grep IPAddress`\n",
    "\n",
    "    Use `docker ps` if necessary to find out the container id.\n",
    "    \n",
    "    Do you see a match?"
   ]
  },
  {
   "cell_type": "markdown",
   "id": "f87bde0c",
   "metadata": {},
   "source": [
    "### Docker based services\n",
    "\n",
    "Docker allows services, such as a web server, to be executed in\n",
    "a container, isolated from the rest of the processes already running in\n",
    "the host.\n",
    "\n",
    "For instance, the following command will launch a container running \n",
    "a web server, from the oficial Apache image already found in the Docker registry.\n",
    " \n",
    "`docker run -ti httpd`\n",
    "\n",
    "Using `docker ps`, we can verify that the container is running and\n",
    "**TCP** port **80** is in use, as expected.\n",
    "\n",
    "However, as is, the command is not very useful, because the web server\n",
    "is running in the container **isolated** and not **exposed** to the host.\n",
    "\n",
    "To expose the webserver to the host, when the container is first launched,\n",
    "we need to *map* the container TCP port *80* to any **free** port of the host,\n",
    "adding `-p <external_port>:<internal_port>` to the `run` command, like so:\n",
    "\n",
    "`docker run -ti -p 8880:80 httpd`\n",
    "\n",
    "Now the link below, should work!\n",
    "\n",
    "[http://localhost:8880](http://localhost:8880)\n",
    "\n",
    "The browser will connect to the *host* and port 8880, but the connection will\n",
    "be routed to the container and to the internal port 80, where the server is listening on."
   ]
  },
  {
   "cell_type": "markdown",
   "id": "3e953144",
   "metadata": {
    "slideshow": {
     "slide_type": "notes"
    }
   },
   "source": [
    "Note: If necessary, multiple ports can be exposed."
   ]
  },
  {
   "cell_type": "markdown",
   "id": "ccaf7779",
   "metadata": {},
   "source": [
    "#### Docker storage\n",
    "\n",
    "By default, the filesystem of a container is not directly accessible to the host system (or other containers), and vice versa.\n",
    "\n",
    "However, it is possible to expose parts of the host filesystem to a container. \n",
    "\n",
    "Namely, using `-v <host_dir>:<container_dir>` in the `docker run` command, we\n",
    "can **map** a directory in the host filesystem to a directory in the container filesystem, like so:\n",
    "\n",
    "`docker run -ti -p 8880:80 -v \"/tmp:/usr/local/apache2/htdocs\" httpd`\n",
    "\n",
    "The link below should now list the contents of directory `/tmp` in the host.\n",
    "\n",
    "[http://localhost:8880](http://localhost:8880)\n",
    "\n",
    "You may need to create `/tmp` (or `c:/tmp`) in the host and/or refresh\n",
    "the browser. Or you can replace `/tmp` with a different folder."
   ]
  },
  {
   "cell_type": "markdown",
   "id": "2ba9a039",
   "metadata": {},
   "source": [
    "### Some remarks\n",
    "\n",
    "Redes de Computadores labs course will use docker extensively to\n",
    "provide and test samples. In particular, the two work assignments\n",
    "will be tested and validated using software packaged in docker images.\n",
    "\n",
    "As such, it is important to have a fair understanding of what Docker\n",
    "is and what is happening under the hood. \n",
    "\n",
    "Make sure you install and try docker in your personal computer, \n",
    "and follow this classes' examples and exercises."
   ]
  }
 ],
 "metadata": {
  "kernelspec": {
   "display_name": "Ganymede 1.1.0.20210614 (Java 16)",
   "language": "java",
   "name": "ganymede-1.1.0.20210614-java-16"
  },
  "language_info": {
   "file_extension": ".java",
   "mimetype": "text/x-java",
   "name": "java",
   "version": "16"
  }
 },
 "nbformat": 4,
 "nbformat_minor": 5
}
