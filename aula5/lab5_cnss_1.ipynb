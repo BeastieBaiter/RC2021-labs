{
  "nbformat": 4,
  "nbformat_minor": 0,
  "metadata": {
    "colab": {
      "name": "lab5-cnss-1.ipynb",
      "provenance": [],
      "include_colab_link": true
    },
    "kernelspec": {
      "name": "python3",
      "display_name": "Python 3"
    }
  },
  "cells": [
    {
      "cell_type": "markdown",
      "metadata": {
        "id": "view-in-github",
        "colab_type": "text"
      },
      "source": [
        "<a href=\"https://colab.research.google.com/github/smduarte/RC2021-labs/blob/main/aula5/lab5_cnss_1.ipynb\" target=\"_parent\"><img src=\"https://colab.research.google.com/assets/colab-badge.svg\" alt=\"Open In Colab\"/></a>"
      ]
    },
    {
      "cell_type": "markdown",
      "metadata": {
        "id": "QL1hu3qxH--0"
      },
      "source": [
        "# CNSS (Computer Networks Simple Simulator)\n",
        "\n",
        "CNSS (Computer Networks Simple Simulator) makes it possible to code and simulate simple networking protocols. The simulation results are deterministic and repeatable, making it easier to reproduce and interpret them.\n",
        "\n",
        "In this lab we will first cover the basics of CNSS. Firstly, how and where to fetch the source code, how to compile the code and execute the simulator. Then we will learn about the basic components: **nodes** and **links** that will be used to simulate simple computer networks and networking protocols.\n",
        "\n",
        "---\n",
        "\n",
        "## Fetching CNSS\n",
        "\n",
        "CNSS is written in Java 8. The source code is publicly available and hosted at [GitHub](https://github.com/jlegatheaux/cnss)\n",
        "\n",
        "For those still unfamiliar with GitHub repositories, there are several ways\n",
        "to access the source code.\n",
        "\n",
        "You can [download a zip archive](https://github.com/jlegatheaux/cnss/archive/master.zip) of the entire repository;\n",
        "\n",
        "You can also use [git](https://git-scm.com/) to clone the contents of the repository to a local directory, like so:"
      ]
    },
    {
      "cell_type": "code",
      "metadata": {
        "id": "X9SX-mlqIEge",
        "outputId": "f0ae2e41-d918-4552-d084-a1a23f7694c1",
        "colab": {
          "base_uri": "https://localhost:8080/"
        }
      },
      "source": [
        "%%bash\n",
        "\n",
        "git clone https://github.com/jlegatheaux/cnss"
      ],
      "execution_count": 1,
      "outputs": [
        {
          "output_type": "stream",
          "name": "stderr",
          "text": [
            "Cloning into 'cnss'...\n"
          ]
        }
      ]
    },
    {
      "cell_type": "markdown",
      "metadata": {
        "id": "2Bc8LYmoIIA5"
      },
      "source": [
        "This will create a directory ***cnss*** in the current directory with a local repository with the latest version.\n",
        "\n",
        "You can refresh and update the local repository, by executing the following command in the repository folder:\n"
      ]
    },
    {
      "cell_type": "code",
      "metadata": {
        "id": "db9Iw7zVIJXi",
        "outputId": "1f83eeee-7821-4dfb-f57c-ee769e9089e6",
        "colab": {
          "base_uri": "https://localhost:8080/"
        }
      },
      "source": [
        "%%bash\n",
        "\n",
        "git -C cnss pull"
      ],
      "execution_count": 2,
      "outputs": [
        {
          "output_type": "stream",
          "name": "stdout",
          "text": [
            "Already up to date.\n"
          ]
        }
      ]
    },
    {
      "cell_type": "markdown",
      "metadata": {
        "id": "ybxNE9dgIRUx"
      },
      "source": [
        "### Eclipse Users\n",
        "\n",
        "CNSS can also be imported directly to Eclipse.\n",
        "\n",
        "For version 2020-06, the procedure is as follows:\n",
        "  * Copy the CNSS repository uri (https://github.com/jlegatheaux/cnss.git) into the clipboard;\n",
        "  * Navigate: ```File > Import > Git```, choose ```Projects from Git```, then ```Next```\n",
        "  * Choose ```Clone URI```, then ```Next``` twice.\n",
        "  * If asked, only select the ```master``` branch and press ```Next``` until finished."
      ]
    },
    {
      "cell_type": "markdown",
      "metadata": {
        "id": "evW22iInIywA"
      },
      "source": [
        "## Compiling CNSS manually\n",
        "\n",
        "CNSS has no external dependencies. \n",
        "\n",
        "At the root of the repository, the source code can be compiled in the command line, like so:"
      ]
    },
    {
      "cell_type": "code",
      "metadata": {
        "id": "bAxXMn-AI2pj"
      },
      "source": [
        "%%bash\n",
        "\n",
        "mkdir cnss-classes\n",
        "javac -d cnss-classes cnss/src/*/*/*.java"
      ],
      "execution_count": 3,
      "outputs": []
    },
    {
      "cell_type": "markdown",
      "metadata": {
        "id": "ppvjBh6AI6Kr"
      },
      "source": [
        "Note: the switch ```-d cnss-classes``` will place the resulting classes in the ```cnss-classes``` directory."
      ]
    },
    {
      "cell_type": "markdown",
      "metadata": {
        "id": "s3OGnxhIJks0"
      },
      "source": [
        "## Running CNSS\n",
        "\n",
        "To run the simulator, a **plain text** configuration file is needed.\n",
        "\n",
        "We can use an empty file as its argument just to try out the simulator."
      ]
    },
    {
      "cell_type": "code",
      "metadata": {
        "id": "JTUiaFmvJsf-",
        "outputId": "4d3a7569-9e8e-4c10-98d1-58f8d2520a46",
        "colab": {
          "base_uri": "https://localhost:8080/"
        }
      },
      "source": [
        "%%bash\n",
        "echo > empty.config.txt\n",
        "\n",
        "java -cp .:cnss-classes cnss.simulator.Simulator empty.config.txt"
      ],
      "execution_count": 4,
      "outputs": [
        {
          "output_type": "stream",
          "name": "stdout",
          "text": [
            "Loading configuration : empty.config.txt\n",
            "Reading file\n",
            "\n",
            "simulation starts - first processing step with clock = 0\n",
            "\n",
            "\n",
            "simulation ended - last processing step with clock = 0\n",
            "\n"
          ]
        }
      ]
    },
    {
      "cell_type": "markdown",
      "metadata": {
        "id": "dEOHln24J2LW"
      },
      "source": [
        "### Eclipse Users\n",
        "\n",
        "Execute the [Simulator](https://github.com/jlegatheaux/cnss/blob/master/src/cnss/simulator/Simulator.java) class, using the desired configuration file as its sole argument.\n",
        "\n",
        "See [here](https://www.codejava.net/ides/eclipse/how-to-pass-arguments-when-running-a-java-program-in-eclipse) how to pass arguments to a Java program in Eclipse."
      ]
    },
    {
      "cell_type": "markdown",
      "metadata": {
        "id": "YXxtMfYgZtF2"
      },
      "source": [
        "### Accessing the Google Colab Terminal \n",
        "\n",
        "Google Colab notebooks execute in a virtualized Linux environment. \n",
        "\n",
        "Executing the Python code below will provide a text console/terminal. This terminal provides limited shell access to the virtual machine where this notebook is running. It is a useful way to check the filesystem or run Unix commands interactively..."
      ]
    },
    {
      "cell_type": "code",
      "metadata": {
        "cellView": "form",
        "id": "2B7WM5oD6YRb",
        "outputId": "a27868e9-ddbe-415c-8f6e-73c00df3c805",
        "colab": {
          "base_uri": "https://localhost:8080/",
          "height": 267
        }
      },
      "source": [
        "#@title\n",
        "from IPython.display import JSON\n",
        "from google.colab import output\n",
        "from subprocess import getoutput\n",
        "import os\n",
        "\n",
        "def shell(command):\n",
        "  if command.startswith('cd'):\n",
        "    path = command.strip().split(maxsplit=1)[1]\n",
        "    os.chdir(path)\n",
        "    return JSON([''])\n",
        "  return JSON([getoutput(command)])\n",
        "output.register_callback('shell', shell)\n",
        "from IPython.core.display import HTML\n",
        "HTML(\"\"\"\n",
        "<div id=term_demo></div>\n",
        "<script src=\"https://code.jquery.com/jquery-latest.js\"></script>\n",
        "<script src=\"https://cdn.jsdelivr.net/npm/jquery.terminal/js/jquery.terminal.min.js\"></script>\n",
        "<link href=\"https://cdn.jsdelivr.net/npm/jquery.terminal/css/jquery.terminal.min.css\" rel=\"stylesheet\"/>\n",
        "<script>\n",
        "  $('#term_demo').terminal(async function(command) {\n",
        "      if (command !== '') {\n",
        "          try {\n",
        "              let res = await google.colab.kernel.invokeFunction('shell', [command])\n",
        "              let out = res.data['application/json'][0]\n",
        "              this.echo(new String(out))\n",
        "          } catch(e) {\n",
        "              this.error(new String(e));\n",
        "          }\n",
        "      } else {\n",
        "          this.echo('');\n",
        "      }\n",
        "  }, {\n",
        "      greetings: 'Welcome to Colab Shell',\n",
        "      name: 'colab_demo',\n",
        "      height: 250,\n",
        "      prompt: 'colab > '\n",
        "  });\n",
        "\"\"\")"
      ],
      "execution_count": 14,
      "outputs": [
        {
          "output_type": "execute_result",
          "data": {
            "text/html": [
              "\n",
              "<div id=term_demo></div>\n",
              "<script src=\"https://code.jquery.com/jquery-latest.js\"></script>\n",
              "<script src=\"https://cdn.jsdelivr.net/npm/jquery.terminal/js/jquery.terminal.min.js\"></script>\n",
              "<link href=\"https://cdn.jsdelivr.net/npm/jquery.terminal/css/jquery.terminal.min.css\" rel=\"stylesheet\"/>\n",
              "<script>\n",
              "  $('#term_demo').terminal(async function(command) {\n",
              "      if (command !== '') {\n",
              "          try {\n",
              "              let res = await google.colab.kernel.invokeFunction('shell', [command])\n",
              "              let out = res.data['application/json'][0]\n",
              "              this.echo(new String(out))\n",
              "          } catch(e) {\n",
              "              this.error(new String(e));\n",
              "          }\n",
              "      } else {\n",
              "          this.echo('');\n",
              "      }\n",
              "  }, {\n",
              "      greetings: 'Welcome to Colab Shell',\n",
              "      name: 'colab_demo',\n",
              "      height: 250,\n",
              "      prompt: 'colab > '\n",
              "  });\n"
            ],
            "text/plain": [
              "<IPython.core.display.HTML object>"
            ]
          },
          "metadata": {},
          "execution_count": 14
        }
      ]
    },
    {
      "cell_type": "markdown",
      "metadata": {
        "id": "Meljt-y_KVpB"
      },
      "source": [
        "---\n",
        "# CNSS Overview\n",
        "\n",
        "A simulator is piece of software that executes **actions** in response to **events**. To make the execution of a simulation **deterministic** and **repeatable**, the **ordering of events** is logical and **fixed**, and does not depend on the actual time taken to execute the actions, which are treated as **instantaneous**.\n",
        "\n",
        "Given the computer networks context, CNSS simulates a network made of links that interconnect nodes. Nodes, using the network, can exchange messages (packets). In this context, an event in CNSS can be, for example, the *delivery* of a message at some node or the indication that a *timeout* has expired in another one, or yet the firing of a clock tick, ...\n",
        "\n",
        "A more compreenhesive description of CNSS can be found [here](https://github.com/jlegatheaux/cnss).\n",
        "\n",
        "## Nodes\n",
        "\n",
        "A simulation will comprise of a number of nodes. Nodes can be used to simulate simple end-systems (application hosts) or other lower-level networking components, such as *packet switches*.\n",
        "\n",
        "### Programming Application Nodes\n",
        "\n",
        "The behavior of application nodes (or the application part of a node) is coded in a Java class that **implements** the [ApplicationAlgorithm](https://github.com/jlegatheaux/cnss/blob/master/src/cnss/simulator/ApplicationAlgorithm.java) interface.\n",
        "\n",
        "The CNSS codebase also provides a convenience class  [AbstractAplicationAlgorithm](https://github.com/jlegatheaux/cnss/blob/master/src/cnss/lib/AbstractApplicationAlgorithm.java) that can be extended as needed. Using this class we avoid the need to provide implementions for interface methods that are not used. As a bare minimum,\n",
        "we only need to provide a public no-args constructor and implement the **initialize** method of our node.\n",
        "\n",
        "As an example, consider the following class:"
      ]
    },
    {
      "cell_type": "code",
      "metadata": {
        "id": "sY73UGzkM5sg",
        "outputId": "c640914d-c2de-4c13-8a01-64400bd6c757",
        "colab": {
          "base_uri": "https://localhost:8080/"
        }
      },
      "source": [
        "%%writefile MinimalNode.java\n",
        "\n",
        "import java.util.Arrays;\n",
        "import cnss.simulator.*;\n",
        "import cnss.lib.*;\n",
        "\n",
        "public class MinimalNode extends AbstractApplicationAlgorithm {\n",
        "\n",
        "  public MinimalNode() {\n",
        "      super(true, \"minimal-node\");\n",
        "  }\n",
        "\n",
        "  public int initialise(int now, int node_id, Node self, String[] args) {\n",
        "    super.initialise(now, node_id, self, args);\n",
        "\n",
        "    super.log( now, \"args: \" + Arrays.asList(args));\n",
        "\t\treturn 0;\n",
        "\t}\n",
        "} "
      ],
      "execution_count": 18,
      "outputs": [
        {
          "output_type": "stream",
          "name": "stdout",
          "text": [
            "Overwriting MinimalNode.java\n"
          ]
        }
      ]
    },
    {
      "cell_type": "markdown",
      "metadata": {
        "id": "yyuwOKGZNBcY"
      },
      "source": [
        "In the example, the public **no-args constructor** calls the super constructor with **true**, requesting logging to be enabled and providing the string **minimal-node** to be used as way of identifying this application in log messages.\n",
        "\n",
        "In the **initialize** method, we pass the method's arguments to the superclass to be stored in superclass fields. The superclass provides a logging method we call to print that information."
      ]
    },
    {
      "cell_type": "markdown",
      "metadata": {
        "id": "rulP9yn8NY9W"
      },
      "source": [
        "### Configuration\n",
        "\n",
        "In the configuration file, we add nodes to a simulation, using the following syntax; each in a separate line:\n",
        "\n",
        "`node` `<id>` `<interfaces>` `<control-class>` `<application-class>` `<arg1>` ... `<argn>`\n",
        "\n",
        "where:\n",
        "\n",
        "* `<id>` is the integer id of the node (starting in 0 and following a strict increasing order);\n",
        "* `<interfaces>` is the number of network interfaces attached to the node;\n",
        "* `<control-class>` is the class providing the default control logic for the node;\n",
        "* `<application-class>` is the class that implements the node application logic;\n",
        "* `<arg1> ...` is a space separated list of string arguments passed to the previous class.\n",
        "\n",
        "#### Example \n",
        "The example below shows a configuration file for a simulation that will\n",
        "have 2 nodes. [EndSystemControl]() is a sample control-class already provided by the CNSS simulator library. "
      ]
    },
    {
      "cell_type": "code",
      "metadata": {
        "id": "W4IqIddFNulM",
        "outputId": "4eddd767-09cf-47ac-e0b7-4928d704f721",
        "colab": {
          "base_uri": "https://localhost:8080/"
        }
      },
      "source": [
        "%%writefile minimal-node.config.txt\n",
        "\n",
        "node 0 0 cnss.lib.EndSystemControl MinimalNode arg1 arg2 \n",
        "node 1 0 cnss.lib.EndSystemControl MinimalNode arg3 arg4\n"
      ],
      "execution_count": 16,
      "outputs": [
        {
          "output_type": "stream",
          "name": "stdout",
          "text": [
            "Writing minimal-node.config.txt\n"
          ]
        }
      ]
    },
    {
      "cell_type": "markdown",
      "metadata": {
        "id": "K9nlitN9N1Lf"
      },
      "source": [
        "#### Execution\n",
        "\n",
        "The following Unix commands compile and execute the simulator."
      ]
    },
    {
      "cell_type": "code",
      "metadata": {
        "id": "rqLiiA9aN5PG",
        "outputId": "ae05e7dc-18f0-459c-dd2d-a252a0b121cb",
        "colab": {
          "base_uri": "https://localhost:8080/"
        }
      },
      "source": [
        "%%bash\n",
        "\n",
        "# Fetch the CNSS repository and compile it\n",
        "git clone https://github.com/jlegatheaux/cnss.git 2> /dev/null || git -C cnss pull\n",
        "javac -d cnss-classes cnss/src/*/*/*.java\n",
        "\n",
        "javac -cp .:cnss-classes MinimalNode.java\n",
        "java -cp .:cnss-classes cnss.simulator.Simulator minimal-node.config.txt"
      ],
      "execution_count": 19,
      "outputs": [
        {
          "output_type": "stream",
          "name": "stdout",
          "text": [
            "Already up to date.\n",
            "Loading configuration : minimal-node.config.txt\n",
            "Reading file\n",
            "Created Node 0: 0 interf.s, ctr code: cnss.lib.EndSystemControl app code: MinimalNode\n",
            "Created Node 1: 0 interf.s, ctr code: cnss.lib.EndSystemControl app code: MinimalNode\n",
            "\n",
            "simulation starts - first processing step with clock = 0\n",
            "\n",
            "log: minimal-node time 0 node 0 args: [arg1, arg2]\n",
            "log: minimal-node time 0 node 1 args: [arg3, arg4]\n",
            "\n",
            "simulation ended - last processing step with clock = 0\n",
            "\n"
          ]
        }
      ]
    },
    {
      "cell_type": "markdown",
      "metadata": {
        "id": "aDNWgE6TOFIg"
      },
      "source": [
        "### Periodic actions\n",
        "\n",
        "Nodes can request an action to be executed, periodically, ie., at regular intervals, by the way of receiving periodic clock tick events. This is done by:\n",
        "\n",
        "1. Returning a positive value (in milliseconds) in the **initialize** method;\n",
        "2. Implementing the `on_clock_tick` method with the desired behavior to be executed periodically.\n",
        "\n",
        "All events are delivered to nodes via a call to the appropriate `on_something` method. These calls from the simulator kernel (or node kernel in this case) to the user provided code are called **up calls**.\n"
      ]
    },
    {
      "cell_type": "code",
      "metadata": {
        "id": "o97Y44UUPvKu",
        "outputId": "cb1be1d8-4e95-40b1-f096-2c18086eb1c9",
        "colab": {
          "base_uri": "https://localhost:8080/"
        }
      },
      "source": [
        "%%writefile PeriodicActionNode.java\n",
        "\n",
        "import java.util.Arrays;\n",
        "import cnss.simulator.*;\n",
        "import cnss.lib.*;\n",
        "\n",
        "public class PeriodicActionNode extends AbstractApplicationAlgorithm {\n",
        "\n",
        "  public PeriodicActionNode() {\n",
        "      super(true, \"periodic-node\");\n",
        "  }\n",
        "\n",
        "  public int initialise(int now, int node_id, Node self, String[] args) {\n",
        "    super.initialise(now, node_id, self, args);\n",
        "\t\treturn 1500;\n",
        "\t}\n",
        "\n",
        "  public void on_clock_tick(int now) {\n",
        "    super.log( now, \"on_clock_tick\");      \n",
        "  }\n",
        "\n",
        "}"
      ],
      "execution_count": 20,
      "outputs": [
        {
          "output_type": "stream",
          "name": "stdout",
          "text": [
            "Writing PeriodicActionNode.java\n"
          ]
        }
      ]
    },
    {
      "cell_type": "markdown",
      "metadata": {
        "id": "R4WmwvI9P67e"
      },
      "source": [
        "In the updated example above, we request that method `on_clock_tick` to be called every 1500 milliseconds, as measured in simulation virtual time (not realtime).\n",
        "\n",
        "The updated configuration below, adds a `stop` parameter line to terminate the simulation after 10000 milliseconds of virtual time."
      ]
    },
    {
      "cell_type": "code",
      "metadata": {
        "id": "J7vDGK4lQAlP",
        "outputId": "a5c6d9da-d344-4674-fae3-7893853e3544",
        "colab": {
          "base_uri": "https://localhost:8080/"
        }
      },
      "source": [
        "%%writefile periodic-action.config.txt\n",
        "\n",
        "node 0 0 cnss.lib.EndSystemControl PeriodicActionNode \n",
        "node 1 0 cnss.lib.EndSystemControl PeriodicActionNode\n",
        "\n",
        "\n",
        "parameter stop 10000"
      ],
      "execution_count": 21,
      "outputs": [
        {
          "output_type": "stream",
          "name": "stdout",
          "text": [
            "Writing periodic-action.config.txt\n"
          ]
        }
      ]
    },
    {
      "cell_type": "markdown",
      "metadata": {
        "id": "64oReDTrQGjo"
      },
      "source": [
        "***Compilation and Execution***"
      ]
    },
    {
      "cell_type": "code",
      "metadata": {
        "id": "OmR1Oq-LQHkf",
        "outputId": "83e43fa4-bb0d-4f95-cf7a-fe2f25723419",
        "colab": {
          "base_uri": "https://localhost:8080/"
        }
      },
      "source": [
        "%%bash\n",
        "# Fetch the CNSS repository and compile it\n",
        "git clone https://github.com/jlegatheaux/cnss.git 2> /dev/null || git -C cnss pull\n",
        "javac -d cnss-classes cnss/src/*/*/*.java\n",
        "\n",
        "\n",
        "javac -cp .:cnss-classes PeriodicActionNode.java\n",
        "java -cp .:cnss-classes cnss.simulator.Simulator periodic-action.config.txt"
      ],
      "execution_count": 22,
      "outputs": [
        {
          "output_type": "stream",
          "name": "stdout",
          "text": [
            "Already up to date.\n",
            "Loading configuration : periodic-action.config.txt\n",
            "Reading file\n",
            "Created Node 0: 0 interf.s, ctr code: cnss.lib.EndSystemControl app code: PeriodicActionNode\n",
            "Created Node 1: 0 interf.s, ctr code: cnss.lib.EndSystemControl app code: PeriodicActionNode\n",
            "\n",
            "simulation starts - first processing step with clock = 0\n",
            "\n",
            "log: periodic-node time 1500 node 0 on_clock_tick\n",
            "log: periodic-node time 1500 node 1 on_clock_tick\n",
            "log: periodic-node time 3000 node 0 on_clock_tick\n",
            "log: periodic-node time 3000 node 1 on_clock_tick\n",
            "log: periodic-node time 4500 node 0 on_clock_tick\n",
            "log: periodic-node time 4500 node 1 on_clock_tick\n",
            "log: periodic-node time 6000 node 0 on_clock_tick\n",
            "log: periodic-node time 6000 node 1 on_clock_tick\n",
            "log: periodic-node time 7500 node 0 on_clock_tick\n",
            "log: periodic-node time 7500 node 1 on_clock_tick\n",
            "log: periodic-node time 9000 node 0 on_clock_tick\n",
            "log: periodic-node time 9000 node 1 on_clock_tick\n",
            "\n",
            "Warning - 2 events not run; stoped too early?\n",
            "\n",
            "simulation ended - last processing step with clock = 10500\n",
            "\n"
          ]
        }
      ]
    },
    {
      "cell_type": "markdown",
      "metadata": {
        "id": "V5V61acZQPIq"
      },
      "source": [
        "### Timeout Events\n",
        "\n",
        "Application nodes can also schedule an operation to execute once in the future by setting a timeout. This is achieved via the `set_timeout( int )` method in the [Node](https://github.com/jlegatheaux/cnss/blob/master/src/cnss/simulator/Node.java) class.\n",
        "\n",
        "When the timeout deadline expires, the `on_timeout()` method the node implements to satisfy the [ApplicationAlgorithm](https://github.com/jlegatheaux/cnss/blob/master/src/cnss/simulator/ApplicationAlgorithm.java) interface is called by the simulator. \n",
        "\n",
        "Note: Timeout events are automatically cancelled in some cases that will be discussed later on future assignments..."
      ]
    },
    {
      "cell_type": "markdown",
      "metadata": {
        "id": "X89H1AraQngK"
      },
      "source": [
        "#### Example"
      ]
    },
    {
      "cell_type": "code",
      "metadata": {
        "id": "ndkqMdwnQqfT",
        "outputId": "83895d48-504d-4e6a-998e-e6ef5ae4ef72",
        "colab": {
          "base_uri": "https://localhost:8080/"
        }
      },
      "source": [
        "%%writefile TimeoutHandlingNode.java\n",
        "\n",
        "import java.util.Arrays;\n",
        "import cnss.simulator.*;\n",
        "import cnss.lib.*;\n",
        "\n",
        "public class TimeoutHandlingNode extends AbstractApplicationAlgorithm {\n",
        "\n",
        "  public TimeoutHandlingNode() {\n",
        "      super(true, \"timeout-handling-node\");\n",
        "  }\n",
        "\n",
        "  public int initialise(int now, int node_id, Node self, String[] args) {\n",
        "    super.initialise(now, node_id, self, args);\n",
        "    self.set_timeout(1000 + node_id);\n",
        "\t\treturn 0;\n",
        "\t}\n",
        "\n",
        "  public void on_timeout(int now) {\n",
        "    super.log( now, \"on_timeout\");      \n",
        "  }\n",
        "\n",
        "}"
      ],
      "execution_count": 23,
      "outputs": [
        {
          "output_type": "stream",
          "name": "stdout",
          "text": [
            "Writing TimeoutHandlingNode.java\n"
          ]
        }
      ]
    },
    {
      "cell_type": "markdown",
      "metadata": {
        "id": "5Lx2AKHzQuwf"
      },
      "source": [
        "***Configuration***"
      ]
    },
    {
      "cell_type": "code",
      "metadata": {
        "id": "jj1vPdVFQvq4",
        "outputId": "2cfb95bc-6f25-4664-b800-e80841cb2c6c",
        "colab": {
          "base_uri": "https://localhost:8080/"
        }
      },
      "source": [
        "%%writefile timeout-handling.config.txt\n",
        "\n",
        "node 0 0 cnss.lib.EndSystemControl TimeoutHandlingNode \n",
        "node 1 0 cnss.lib.EndSystemControl TimeoutHandlingNode\n",
        "\n",
        "\n",
        "parameter stop 10000"
      ],
      "execution_count": 24,
      "outputs": [
        {
          "output_type": "stream",
          "name": "stdout",
          "text": [
            "Writing timeout-handling.config.txt\n"
          ]
        }
      ]
    },
    {
      "cell_type": "markdown",
      "metadata": {
        "id": "HkoZ-6VQRdDq"
      },
      "source": [
        "***Execution***"
      ]
    },
    {
      "cell_type": "code",
      "metadata": {
        "id": "dloNcpmvRgKX",
        "outputId": "0311da06-e27f-4337-884e-cc77f176acdd",
        "colab": {
          "base_uri": "https://localhost:8080/"
        }
      },
      "source": [
        "%%bash\n",
        "# Fetch the CNSS repository and compile it\n",
        "git clone https://github.com/jlegatheaux/cnss.git 2> /dev/null || git -C cnss pull\n",
        "javac -d cnss-classes cnss/src/*/*/*.java\n",
        "\n",
        "\n",
        "javac -cp .:cnss-classes TimeoutHandlingNode.java\n",
        "java -cp .:cnss-classes cnss.simulator.Simulator timeout-handling.config.txt"
      ],
      "execution_count": 25,
      "outputs": [
        {
          "output_type": "stream",
          "name": "stdout",
          "text": [
            "Already up to date.\n",
            "Loading configuration : timeout-handling.config.txt\n",
            "Reading file\n",
            "Created Node 0: 0 interf.s, ctr code: cnss.lib.EndSystemControl app code: TimeoutHandlingNode\n",
            "Created Node 1: 0 interf.s, ctr code: cnss.lib.EndSystemControl app code: TimeoutHandlingNode\n",
            "\n",
            "simulation starts - first processing step with clock = 0\n",
            "\n",
            "log: timeout-handling-node time 1000 node 0 on_timeout\n",
            "log: timeout-handling-node time 1001 node 1 on_timeout\n",
            "\n",
            "simulation ended - last processing step with clock = 1001\n",
            "\n"
          ]
        }
      ]
    },
    {
      "cell_type": "markdown",
      "metadata": {
        "id": "En2Bvj3ZRkU_"
      },
      "source": [
        "***Question:*** The timeout events are not executed in the same instant in the two nodes. Why is that?\n",
        "\n",
        "---"
      ]
    },
    {
      "cell_type": "markdown",
      "metadata": {
        "id": "1HVIUQ6YR0kO"
      },
      "source": [
        "## CNSS Networking\n",
        "\n",
        "The goal of networking is to exchange information among nodes via network packets.\n",
        "\n",
        "In CNSS, **data packets** are modelled by the [DataPacket](https://github.com/jlegatheaux/cnss/blob/master/src/cnss/simulator/DataPacket.java) class, and are created by providing the destination node **id**, and the message payload or contents as an array of bytes.\n",
        "\n",
        "In the example below, we define a node that creates and sends empty data packets to **itself** every 500 ms."
      ]
    },
    {
      "cell_type": "code",
      "metadata": {
        "id": "siqbf_evSB0o",
        "outputId": "574352f6-ea36-4706-d04a-e5718b72b181",
        "colab": {
          "base_uri": "https://localhost:8080/"
        }
      },
      "source": [
        "%%writefile SelfSenderNode.java\n",
        "\n",
        "import java.util.Arrays;\n",
        "import cnss.simulator.*;\n",
        "import cnss.lib.*;\n",
        "\n",
        "public class SelfSenderNode extends AbstractApplicationAlgorithm {\n",
        "\n",
        "  public SelfSenderNode() {\n",
        "      super(true, \"selfsender-node\");\n",
        "  }\n",
        "\n",
        "  public int initialise(int now, int node_id, Node self, String[] args) {\n",
        "    super.initialise(now, node_id, self, args);\n",
        "\n",
        "\t\treturn 500;\n",
        "\t}\n",
        "\n",
        "  public void on_clock_tick(int now) {\n",
        "      self.send(self.createDataPacket( super.nodeId, new byte[0]));\n",
        "  }\n",
        "\n",
        "  public void on_receive( int now, DataPacket p ) {\n",
        "    log( now, \"got: \" + p); \n",
        "  }\n",
        "} "
      ],
      "execution_count": 26,
      "outputs": [
        {
          "output_type": "stream",
          "name": "stdout",
          "text": [
            "Writing SelfSenderNode.java\n"
          ]
        }
      ]
    },
    {
      "cell_type": "markdown",
      "metadata": {
        "id": "swOKHFvHSKFt"
      },
      "source": [
        "***Configuration***"
      ]
    },
    {
      "cell_type": "code",
      "metadata": {
        "id": "uLtD38TrSFlq",
        "outputId": "aa423a85-1b65-434a-e755-ffcac7e91879",
        "colab": {
          "base_uri": "https://localhost:8080/"
        }
      },
      "source": [
        "%%writefile self-sender.config.txt\n",
        "\n",
        "node 0 0 cnss.lib.EndSystemControl SelfSenderNode \n",
        "\n",
        "\n",
        "parameter stop 8000"
      ],
      "execution_count": 27,
      "outputs": [
        {
          "output_type": "stream",
          "name": "stdout",
          "text": [
            "Writing self-sender.config.txt\n"
          ]
        }
      ]
    },
    {
      "cell_type": "markdown",
      "metadata": {
        "id": "7a7Pxyc6SJn4"
      },
      "source": [
        "***Compilation and Execution***"
      ]
    },
    {
      "cell_type": "code",
      "metadata": {
        "id": "hyWgkOd5SIiH",
        "outputId": "5b6ad712-69fb-40de-f47d-9a4a5ee3a279",
        "colab": {
          "base_uri": "https://localhost:8080/"
        }
      },
      "source": [
        "%%bash\n",
        "# Fetch the CNSS repository and compile it\n",
        "git clone https://github.com/jlegatheaux/cnss.git 2> /dev/null || git -C cnss pull\n",
        "javac -d cnss-classes cnss/src/*/*/*.java\n",
        "\n",
        "\n",
        "javac -cp .:cnss-classes SelfSenderNode.java\n",
        "java -cp .:cnss-classes cnss.simulator.Simulator self-sender.config.txt"
      ],
      "execution_count": 28,
      "outputs": [
        {
          "output_type": "stream",
          "name": "stdout",
          "text": [
            "Already up to date.\n",
            "Loading configuration : self-sender.config.txt\n",
            "Reading file\n",
            "Created Node 0: 0 interf.s, ctr code: cnss.lib.EndSystemControl app code: SelfSenderNode\n",
            "\n",
            "simulation starts - first processing step with clock = 0\n",
            "\n"
          ]
        },
        {
          "output_type": "stream",
          "name": "stderr",
          "text": [
            "Exception in thread \"main\" java.lang.ArrayIndexOutOfBoundsException: Index -1 out of bounds for length 0\n",
            "\tat cnss.simulator.Node.process_deliver_packet_event(Node.java:265)\n",
            "\tat cnss.simulator.Node.process_input_events(Node.java:336)\n",
            "\tat cnss.simulator.Simulator.main_loop(Simulator.java:405)\n",
            "\tat cnss.simulator.Simulator.main(Simulator.java:430)\n"
          ]
        }
      ]
    },
    {
      "cell_type": "code",
      "metadata": {
        "id": "zkgwLadn8HD-"
      },
      "source": [
        ""
      ],
      "execution_count": null,
      "outputs": []
    },
    {
      "cell_type": "markdown",
      "metadata": {
        "id": "M5H-HT5wV-wB"
      },
      "source": [
        "One interesting aspect to note is the fact that all packets are delivered to their destination after some time. A packet sent by a node to itself is delivered exactly 1 ms later since in CNSS virtual time advances in milliseconds (which are the smaller time frame CNSS supports).\n",
        "\n",
        "### Network Links\n",
        "\n",
        "To simulate a network we require network links. Links inter-connect nodes by linking two **interfaces**.\n"
      ]
    },
    {
      "cell_type": "markdown",
      "metadata": {
        "id": "_62GIWzYWKbR"
      },
      "source": [
        "### Configuration\n",
        "\n",
        "In the configuration file, we add links to the simulation using the following syntax; each in a separate line:\n",
        "\n",
        "`link` `<id1>`.`<interface1>` `<id2>`.`<interface2>` `<bandwidth>` `<latency>` `<error_rate>` `<jitter>`\n",
        "\n",
        "where:\n",
        "\n",
        "* `<id1>` and `<id2>` identify the end nodes of the link;\n",
        "* `<interface1>` and `<interface2>` identify the two interfaces linked together by the link; \n",
        "* `<bandwidth>` is the transmission rate of the link in bps;\n",
        "* `<latency>` is the latency of the link in ms;\n",
        "* `<error_rate>` is the error rate in percent;\n",
        "* `<jitter>` is the jitter rate of the link.\n",
        "\n",
        "<br>\n",
        "\n",
        "#### Example \n",
        "The example below shows a configuration file for a simulation that will\n",
        "have 2 nodes, connected by a single link."
      ]
    },
    {
      "cell_type": "code",
      "metadata": {
        "id": "Asvh8YE2WrEJ",
        "outputId": "b3ee573a-42e0-4132-9765-bd49d754f49a",
        "colab": {
          "base_uri": "https://localhost:8080/"
        }
      },
      "source": [
        "%%writefile one-link.config.txt\n",
        "\n",
        "node 0 1 cnss.lib.EndSystemControl SenderNode \n",
        "node 1 1 cnss.lib.EndSystemControl ReceiverNode\n",
        "\n",
        "link 0.0 1.0 1000000 125 0 0\n",
        "\n",
        "parameter stop 10000"
      ],
      "execution_count": 29,
      "outputs": [
        {
          "output_type": "stream",
          "name": "stdout",
          "text": [
            "Writing one-link.config.txt\n"
          ]
        }
      ]
    },
    {
      "cell_type": "code",
      "metadata": {
        "id": "LA9EQNc6W1YK",
        "outputId": "6d9bc0ad-44da-428f-cd30-c2c11bf13d14",
        "colab": {
          "base_uri": "https://localhost:8080/"
        }
      },
      "source": [
        "%%writefile SenderNode.java\n",
        "\n",
        "import java.util.Arrays;\n",
        "import cnss.simulator.*;\n",
        "import cnss.lib.*;\n",
        "\n",
        "public class SenderNode extends AbstractApplicationAlgorithm {\n",
        "\n",
        "  public SenderNode() {\n",
        "      super(true, \"sender-node\");\n",
        "  }\n",
        "\n",
        "  public int initialise(int now, int node_id, Node self, String[] args) {\n",
        "    super.initialise(now, node_id, self, args);\n",
        "\t\treturn 1000;\n",
        "\t}\n",
        "\n",
        "  public void on_clock_tick(int now) {\n",
        "      self.send( self.createDataPacket( 1, new byte[0]));\n",
        "  }\n",
        "} "
      ],
      "execution_count": 30,
      "outputs": [
        {
          "output_type": "stream",
          "name": "stdout",
          "text": [
            "Writing SenderNode.java\n"
          ]
        }
      ]
    },
    {
      "cell_type": "markdown",
      "metadata": {
        "id": "WIQEtFpQdFo3"
      },
      "source": [
        "***Question:*** In the above code, what is the meaning of ***1*** in the `createDataPacket` call? What would happen if instead ***0*** was used?"
      ]
    },
    {
      "cell_type": "code",
      "metadata": {
        "id": "h-rv4TU9W166",
        "outputId": "d264c39e-975b-4005-9166-5077855926cb",
        "colab": {
          "base_uri": "https://localhost:8080/"
        }
      },
      "source": [
        "%%writefile ReceiverNode.java\n",
        "\n",
        "import java.util.Arrays;\n",
        "import cnss.simulator.*;\n",
        "import cnss.lib.*;\n",
        "\n",
        "public class ReceiverNode extends AbstractApplicationAlgorithm {\n",
        "\n",
        "  public ReceiverNode() {\n",
        "      super(true, \"receiver-node\");\n",
        "  }\n",
        "\n",
        "  public int initialise(int now, int node_id, Node self, String[] args) {\n",
        "    super.initialise(now, node_id, self, args);\n",
        "\t\treturn 0;\n",
        "\t}\n",
        "\n",
        "  public void on_receive( int now, DataPacket p ) {\n",
        "    log( now, \"got: \" + p); \n",
        "  }\n",
        "} "
      ],
      "execution_count": 31,
      "outputs": [
        {
          "output_type": "stream",
          "name": "stdout",
          "text": [
            "Writing ReceiverNode.java\n"
          ]
        }
      ]
    },
    {
      "cell_type": "markdown",
      "metadata": {
        "id": "MGiXmoWfXEoJ"
      },
      "source": [
        "***Compilation and Execution***"
      ]
    },
    {
      "cell_type": "code",
      "metadata": {
        "id": "YZqjChOsXKxz",
        "outputId": "0e63223b-6cc4-4c1b-f3fd-6ba51395af8b",
        "colab": {
          "base_uri": "https://localhost:8080/"
        }
      },
      "source": [
        "%%bash\n",
        "# Fetch the CNSS repository and compile it\n",
        "git clone https://github.com/jlegatheaux/cnss.git 2> /dev/null || git -C cnss pull\n",
        "javac -d cnss-classes cnss/src/*/*/*.java\n",
        "\n",
        "\n",
        "javac -cp .:cnss-classes SenderNode.java\n",
        "javac -cp .:cnss-classes ReceiverNode.java\n",
        "java -cp .:cnss-classes cnss.simulator.Simulator one-link.config.txt"
      ],
      "execution_count": 33,
      "outputs": [
        {
          "output_type": "stream",
          "name": "stdout",
          "text": [
            "Already up to date.\n",
            "Loading configuration : one-link.config.txt\n",
            "Reading file\n",
            "Created Node 0: 1 interf.s, ctr code: cnss.lib.EndSystemControl app code: SenderNode\n",
            "Created Node 1: 1 interf.s, ctr code: cnss.lib.EndSystemControl app code: ReceiverNode\n",
            "Added link to node 0 - Link (Node1:0 I1:0)<-->(Node2:1 I2:0) bwd: 1000000 bps lat: 125 ms error: 0.0 jit: 0.0 up\n",
            "Added link to node 1 - Link (Node1:0 I1:0)<-->(Node2:1 I2:0) bwd: 1000000 bps lat: 125 ms error: 0.0 jit: 0.0 up\n",
            "\n",
            "simulation starts - first processing step with clock = 0\n",
            "\n",
            "log: receiver-node time 1125 node 1 got: src 0 dst 1 type DATA ttl 32 seq 1 size 20\n",
            "log: receiver-node time 2125 node 1 got: src 0 dst 1 type DATA ttl 32 seq 2 size 20\n",
            "log: receiver-node time 3125 node 1 got: src 0 dst 1 type DATA ttl 32 seq 3 size 20\n",
            "log: receiver-node time 4125 node 1 got: src 0 dst 1 type DATA ttl 32 seq 4 size 20\n",
            "log: receiver-node time 5125 node 1 got: src 0 dst 1 type DATA ttl 32 seq 5 size 20\n",
            "log: receiver-node time 6125 node 1 got: src 0 dst 1 type DATA ttl 32 seq 6 size 20\n",
            "log: receiver-node time 7125 node 1 got: src 0 dst 1 type DATA ttl 32 seq 7 size 20\n",
            "log: receiver-node time 8125 node 1 got: src 0 dst 1 type DATA ttl 32 seq 8 size 20\n",
            "log: receiver-node time 9125 node 1 got: src 0 dst 1 type DATA ttl 32 seq 9 size 20\n",
            "\n",
            "Warning - 2 events not run; stoped too early?\n",
            "\n",
            "simulation ended - last processing step with clock = 10125\n",
            "\n"
          ]
        }
      ]
    },
    {
      "cell_type": "markdown",
      "metadata": {
        "id": "1Qgh-ELyXWBG"
      },
      "source": [
        "### Switches\n",
        "\n",
        "CNSS can simulate networks where some nodes are packet switches, i.e. special nodes that know how to forward packets between links, so that\n",
        "network packets can reach their destination nodes.\n",
        "\n",
        "The base CNSS code already provides classes to instantiate a basic rswitch node. Such nodes do not require application-level actions, and can reply on the [EmptyApp](https://github.com/jlegatheaux/cnss/blob/master/src/cnss/library/EmptyApp.java) class. Whereas, the [FloodingSwitch](https://github.com/jlegatheaux/cnss/blob/master/src/cnss/lib/FloodingSwitch.java) class implements the default packet forwarding protocol.\n",
        "\n",
        "It is interesting to note now that in CNSS all nodes can execute a control algorithm as well as an application algorithm. Switch only nodes execute a packet forwarding algorithm (the control algorithm) and an empty application algorithm, while end systems or application only nodes, execute an elementary control algorithm made available in the lib code base of CNSS. This simple control algorithm allows the application node to send and receive packets using its single link."
      ]
    },
    {
      "cell_type": "markdown",
      "metadata": {
        "id": "UH0dWXM9YDJz"
      },
      "source": [
        "#### Example configuration\n",
        "\n",
        "To exemplify a network where 2 nodes connected via an intermediary switch, we add a third node to the simulation configuration file.\n",
        "\n",
        "Note that that the **switch** has 2 interfaces, each at the end of one of the two links."
      ]
    },
    {
      "cell_type": "code",
      "metadata": {
        "id": "YijOpxHdYD6H",
        "outputId": "7b09f0a6-1bc6-4024-ff74-bb086f813e08",
        "colab": {
          "base_uri": "https://localhost:8080/"
        }
      },
      "source": [
        "%%writefile two-links.config.txt\n",
        "\n",
        "node 0 1 cnss.lib.EndSystemControl SenderNode \n",
        "node 1 1 cnss.lib.EndSystemControl ReceiverNode\n",
        "node 2 2 cnss.lib.FloodingSwitch cnss.lib.EmptyApp\n",
        "\n",
        "link 0.0 2.0 1000000 125 0 0\n",
        "link 2.1 1.0 1000000 500 0 0\n",
        "\n",
        "parameter stop 10000"
      ],
      "execution_count": 34,
      "outputs": [
        {
          "output_type": "stream",
          "name": "stdout",
          "text": [
            "Writing two-links.config.txt\n"
          ]
        }
      ]
    },
    {
      "cell_type": "markdown",
      "metadata": {
        "id": "jqFS1xrjY9kY"
      },
      "source": [
        "***Compilation and Execution***"
      ]
    },
    {
      "cell_type": "code",
      "metadata": {
        "id": "2p6g9RP5ZARH"
      },
      "source": [
        "%%bash\n",
        "# Fetch the CNSS repository and compile it\n",
        "git clone https://github.com/jlegatheaux/cnss.git 2> /dev/null || git -C cnss pull\n",
        "javac -d cnss-classes cnss/src/*/*/*.java\n",
        "\n",
        "\n",
        "javac -cp .:cnss-classes SenderNode.java\n",
        "javac -cp .:cnss-classes ReceiverNode.java\n",
        "java -cp .:cnss-classes cnss.simulator.Simulator two-links.config.txt"
      ],
      "execution_count": null,
      "outputs": []
    },
    {
      "cell_type": "markdown",
      "metadata": {
        "id": "3d3V3uqwd7YZ"
      },
      "source": [
        "Before closing this short introduction to CNSS you should look carrefully at the log of the above simulation and try to explain how CNSS can be used to compute packets end-to-end transit time.\n",
        "\n",
        "# Exercise \n",
        "\n",
        "Up to this point, we have covered the main concepts that CNSS simulations will revolve around. \n",
        "\n",
        "1) We know how to code Nodes that can execute operations in due time or in response to the arrival of network packtets. \n",
        "\n",
        "2) How to specify a configuration file that defines which nodes will be simulation, as well as, and the network links that connect them together. \n",
        "\n",
        "3) Compile and run the simulator and see its output results.\n",
        "\n",
        "The challenge for this exercise is to use the CNSS simulator to find the **round-trip-time** (RTT)[https://en.wikipedia.org/wiki/Round-trip_delay] between two nodes. \n",
        "\n",
        "This can be achieved by measuring the virtual simulation time that a small message takes to go from a **node A** to a **node B** and back (to A).\n",
        "\n",
        "The two requirements of the solution are:\n",
        "\n",
        "1. The RTT should be measured/repeated every 5 seconds for the duration of the simulation;\n",
        "2. The sender node should accept a single argument corresponding to the total size in bytes of the payload of the data packet that will be used to determine the RTT;\n",
        "3. The solution should be general and produce the correct result with different configurations of network links.\n",
        "\n",
        "The payload of the message used to measure the RTT is up to you; for instance, it can be all zeroes or include any information you see fit, as long as it does not exceed the size specified. \n",
        "\n",
        "As a sugestion, you might want to consider including the time the message was sent/created as part of the packet payload...\n",
        "\n",
        "Moreover, to address this challenge, you can modify the ***SenderNode*** and ***ReceiverNode*** classes provided earlier.\n"
      ]
    }
  ]
}